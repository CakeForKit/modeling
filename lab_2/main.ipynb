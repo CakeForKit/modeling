{
 "cells": [
  {
   "cell_type": "markdown",
   "metadata": {},
   "source": [
    "#### k(T)"
   ]
  },
  {
   "cell_type": "code",
   "execution_count": 3,
   "metadata": {},
   "outputs": [],
   "source": [
    "def read_data_kT(variant=1):\n",
    "    data_tab = []\n",
    "    with open('data/kT.txt') as file:\n",
    "        line = file.readline()\n",
    "        while line != '':\n",
    "            line = line.split()\n",
    "            if variant == 1:\n",
    "                data_tab.append([int(line[1]), float(line[2])])\n",
    "            else:\n",
    "                data_tab.append([int(line[1]), float(line[3])])\n",
    "\n",
    "            line = file.readline()\n",
    "\n",
    "    return data_tab\n",
    "    \n",
    "import numpy as np\n",
    "\n",
    "def getkFunc(variantkT):\n",
    "    data_kT = read_data_kT(variantkT)\n",
    "    Tvals = [np.log(data_kT[i][0]) for i in range(len(data_kT))]\n",
    "    kvals = [np.log(data_kT[i][1]) for i in range(len(data_kT))]\n",
    "    def k(T):\n",
    "        return np.exp(np.interp([np.log(T)], Tvals, kvals)[0])\n",
    "    return k\n"
   ]
  },
  {
   "cell_type": "markdown",
   "metadata": {},
   "source": [
    "### Метод Рунге-Кутты 2-го и 4-го порядка"
   ]
  },
  {
   "cell_type": "code",
   "execution_count": 25,
   "metadata": {},
   "outputs": [],
   "source": [
    "# Рунге-Кутта 2\n",
    "def RungeKutta2Step(duFunc, dFFunc, ri, ui, Fi, h, alpha):\n",
    "    du, dF = duFunc, dFFunc\n",
    "    k1 = du(ri, ui, Fi)\n",
    "    q1 = dF(ri, ui, Fi)\n",
    "\n",
    "    h_2a = h / (2 * alpha)\n",
    "    k2 = du(ri + h_2a, ui + h_2a * k1, Fi + h_2a * q1)\n",
    "    q2 = dF(ri + h_2a, ui + h_2a * k1, Fi + h_2a * q1)\n",
    "\n",
    "    yip1 = ui + h * ( (1 - alpha) * k1 + alpha * k2)\n",
    "    zip1 = Fi + h * ( (1 - alpha) * q1 + alpha * q2)\n",
    "    return yip1, zip1\n",
    "\n",
    "def RungeKutta2(duFunc, dFFunc, r0, y0, z0, h, rTarget, alpha=1):\n",
    "    rvals = [r0]\n",
    "    yvals = [y0]\n",
    "    Fvals = [z0]\n",
    "    while rvals[-1] < rTarget:\n",
    "        ri = rvals[-1] + h\n",
    "        yi, Fi = RungeKutta2Step(duFunc, dFFunc, rvals[-1], yvals[-1], Fvals[-1], h, alpha)\n",
    "        rvals.append(ri)\n",
    "        yvals.append(yi)\n",
    "        Fvals.append(Fi)\n",
    "    return rvals, yvals, Fvals\n",
    "\n",
    "# Рунге-Кутта 4\n",
    "def RungeKutta4Step(duFunc, dFFunc, ri, ui, Fi, h):\n",
    "    du, dF = duFunc, dFFunc\n",
    "    k1 = du(ri, ui, Fi)\n",
    "    q1 = dF(ri, ui, Fi)\n",
    "    k2 = du(ri + h / 2, ui + h / 2 * k1, Fi + h / 2 * q1)\n",
    "    q2 = dF(ri + h / 2, ui + h / 2 * k1, Fi + h / 2 * q1)\n",
    "    k3 = du(ri + h / 2, ui + h / 2 * k2, Fi + h / 2 * q2)\n",
    "    q3 = dF(ri + h / 2, ui + h / 2 * k2, Fi + h / 2 * q2)\n",
    "    k4 = du(ri + h, ui + h * k3, Fi + h * q3)\n",
    "    q4 = dF(ri + h, ui + h * k3, Fi + h * q3)\n",
    "    yip1 = ui + (h / 6) * ( k1 + 2 * k2 + 2 * k3 + k4)\n",
    "    zip1 = Fi + (h / 6) * ( q1 + 2 * q2 + 2 * q3 + q4)\n",
    "    if yip1 < 0:\n",
    "        print(f\"RK4step: yip1={yip1}, k1={k1} k2={k2} k3={k3} k4={k4}, ri={ri}, ui={ui}, Fi={Fi}\")\n",
    "    return yip1, zip1\n",
    "\n",
    "def RungeKutta4(duFunc, dFFunc, r0, y0, z0, h, rTarget):\n",
    "    rvals = [float(r0)]\n",
    "    yvals = [float(y0)]\n",
    "    Fvals = [float(z0)]\n",
    "    while rvals[-1] < rTarget:\n",
    "        ri = rvals[-1] + h\n",
    "        yi, Fi = RungeKutta4Step(duFunc, dFFunc, rvals[-1], yvals[-1], Fvals[-1], h)\n",
    "        rvals.append(float(ri))\n",
    "        yvals.append(float(yi))\n",
    "        Fvals.append(float(Fi))\n",
    "    return rvals, yvals, Fvals"
   ]
  },
  {
   "cell_type": "markdown",
   "metadata": {},
   "source": [
    "### T(r), Up(r)"
   ]
  },
  {
   "cell_type": "code",
   "execution_count": 26,
   "metadata": {},
   "outputs": [],
   "source": [
    "c = 3 * 1e10    # Скорость света\n",
    "R = 0.35        # Радиус цилиндра\n",
    "\n",
    "# температурное поле в цилиндре\n",
    "def T_r(r):\n",
    "    Tw, To, p = 2000, 1e4, 4\n",
    "    return (Tw - To) * ((r / R) ** p) + To\n",
    "\n",
    "# функция Планка\n",
    "def up_r(r):\n",
    "    return (3.084 * 1e-4) / (np.exp(4.799 * 1e4 / T_r(r)) - 1)\n"
   ]
  },
  {
   "cell_type": "code",
   "execution_count": null,
   "metadata": {},
   "outputs": [
    {
     "name": "stdout",
     "output_type": "stream",
     "text": [
      "khi=0.1, h=0.01, y0=2.5616965203959684e-07\n",
      "khi = 0.1, h = 0.01, yR_h = 1.64140055995201e-07, yR_h2 = 1.6409265280565374e-07, acc = 0.0002888806338173393\n",
      "khi = 0.1, h = 0.005, yR_h = 1.6409265280565374e-07, yR_h2 = 1.6408078952588673e-07, acc = 7.23014546753904e-05\n",
      "khi = 0.1, h = 0.0025, yR_h = 1.6408078952588673e-07, yR_h2 = 1.6407373911135775e-07, acc = 4.297101149256109e-05\n",
      "khi=1, h=0.00125, y0=2.561696520395968e-06\n",
      "khi=0.55, h=0.00125, y0=1.4089330862177825e-06\n",
      "khi = 0.55, yR = 1.3689068961132813e-06, FR = 743.8470531075526, h = 0.00125\n",
      "khi=0.325, h=0.00125, y0=8.325513691286897e-07\n",
      "khi = 0.325, yR = 7.664903176123192e-07, FR = 2360.5023308747554, h = 0.00125\n",
      "khi=0.21250000000000002, h=0.00125, y0=5.443605105841433e-07\n",
      "khi = 0.21250000000000002, yR = 4.652820283618393e-07, FR = 3168.829969758359, h = 0.00125\n",
      "khi=0.15625, h=0.00125, y0=4.0026508131187e-07\n",
      "khi = 0.15625, yR = 3.146778837365979e-07, FR = 3572.9937892001617, h = 0.00125\n",
      "khi=0.128125, h=0.00125, y0=3.282173666757334e-07\n",
      "khi = 0.128125, yR = 2.3937581142397823e-07, FR = 3775.075698921057, h = 0.00125\n",
      "khi=0.1421875, h=0.00125, y0=3.642412239938017e-07\n",
      "khi = 0.1421875, yR = 2.770268475802881e-07, FR = 3674.034744060608, h = 0.00125\n",
      "khi=0.14921875, h=0.00125, y0=3.822531526528359e-07\n",
      "khi = 0.14921875, yR = 2.958523656584429e-07, FR = 3623.514266630387, h = 0.00125\n",
      "khi=0.152734375, h=0.00125, y0=3.9125911698235297e-07\n",
      "khi = 0.152734375, yR = 3.052651246975207e-07, FR = 3598.2540279152745, h = 0.00125\n",
      "khi=0.1544921875, h=0.00125, y0=3.9576209914711145e-07\n",
      "khi = 0.1544921875, yR = 3.0997150421705957e-07, FR = 3585.6239085577176, h = 0.00125\n",
      "khi=0.15361328125, h=0.00125, y0=3.9351060806473223e-07\n",
      "khi = 0.15361328125, yR = 3.0761831445729035e-07, FR = 3591.9389682364954, h = 0.00125\n",
      "khi=0.15317382812500002, h=0.00125, y0=3.923848625235426e-07\n",
      "khi = 0.15317382812500002, yR = 3.064417195774057e-07, FR = 3595.0964980758827, h = 0.00125\n",
      "khi=0.15339355468750002, h=0.00125, y0=3.929477352941374e-07\n",
      "khi = 0.15339355468750002, yR = 3.070300170173476e-07, FR = 3593.5177331561836, h = 0.00125\n",
      "khi=0.15350341796875, h=0.00125, y0=3.932291716794348e-07\n",
      "khi = 0.15350341796875, yR = 3.0732416573731904e-07, FR = 3592.728350696343, h = 0.00125\n",
      "khi=0.15344848632812502, h=0.00125, y0=3.9308845348678616e-07\n",
      "khi = 0.15344848632812502, yR = 3.071770913773332e-07, FR = 3593.1230419262642, h = 0.00125\n",
      "khi=0.15342102050781253, h=0.00125, y0=3.9301809439046184e-07\n",
      "khi = 0.15342102050781253, yR = 3.071035541973403e-07, FR = 3593.320387541226, h = 0.00125\n",
      "khi=0.15343475341796878, h=0.00125, y0=3.93053273938624e-07\n",
      "khi = 0.15343475341796878, yR = 3.0714032278733654e-07, FR = 3593.2217147337456, h = 0.00125\n",
      "\n",
      "Solution: khi = 0.15343475341796878, yR = 3.0714032278733654e-07, FR = 3593.2217147337456, h = 0.00125\n"
     ]
    }
   ],
   "source": [
    "k = getkFunc(variantkT=1)\n",
    "\n",
    "r0 = 0\n",
    "def get_y0(khi):\n",
    "    return khi * up_r(r0)\n",
    "z0 = 0\n",
    "rTarget = R\n",
    "\n",
    "def du(ri, ui, Fi):\n",
    "    return -(3 * k(T_r(ri)) * Fi) / c\n",
    "\n",
    "def dF(ri, ui, Fi):\n",
    "    if ri == 0 and Fi == 0:\n",
    "        return 0.5 * k(T_r(ri)) * (up_r(ri) - ui)\n",
    "    return -Fi / ri + c * k(T_r(ri)) * (up_r(ri) - ui)\n",
    "\n",
    "# Метод стрельбы, решение для khi\n",
    "def solutionShooting(khi, RungeKuttaFunc, h_start):\n",
    "    RungeKuttaEPS = 1e-5\n",
    "    y0 = get_y0(khi)\n",
    "    h = h_start\n",
    "\n",
    "    # print(f\"khi={khi}, h={h}, y0={y0}\")\n",
    "    res_h = RungeKuttaFunc(du, dF, r0, y0, z0, h, rTarget)\n",
    "    yR_h = res_h[1][-1]\n",
    "    # if yR_h < 0:\n",
    "    #     print(f\"khi={khi}, h={h}, y={res_h[1]}\")\n",
    "    res_h2 = RungeKuttaFunc(du, dF, r0, y0, z0, h / 2, rTarget)\n",
    "    yR_h2 = res_h2[1][-1]\n",
    "    # if yR_h2 < 0:\n",
    "    #     print(f\"khi={khi}, h={h}, y={res_h2[1]}\")\n",
    "    while abs(yR_h - yR_h2) / yR_h2 >= RungeKuttaEPS:\n",
    "        print(f\"khi = {khi}, h = {h}, yR_h = {yR_h}, yR_h2 = {yR_h2}, acc = {abs(yR_h - yR_h2) / yR_h2}\")\n",
    "        h /= 2\n",
    "        res_h, yR_h = res_h2[:], yR_h2\n",
    "        res_h2 = RungeKuttaFunc(du, dF, r0, y0, z0, h / 2, rTarget)\n",
    "        # if yR_h2 < 0:\n",
    "        #     print(f\"khi={khi}, h={h}, y={res_h2[1]}\")\n",
    "        yR_h2 = res_h2[1][-1]\n",
    "    \n",
    "    res_yR, res_FR = res_h[1][-1], res_h[2][-1]\n",
    "    return (res_yR, res_FR), h\n",
    "\n",
    "def equationTarget(uR, FR):\n",
    "    return FR - 0.39 * c * uR\n",
    "\n",
    "# Метод половинного деления (поиск подходящего khi)\n",
    "def HalfDivMethod(RungeKuttaFunc, h_start):\n",
    "    khiEPS = 1e-4\n",
    "    khi_l, khi_r = 1e-1, 1\n",
    "    h = h_start\n",
    "    res_l, h = solutionShooting(khi_l, RungeKuttaFunc, h)\n",
    "    res_r, h = solutionShooting(khi_r, RungeKuttaFunc, h)\n",
    "\n",
    "    while abs(khi_r - khi_l) / khi_l >= khiEPS:\n",
    "        khi_mid = (khi_l + khi_r) / 2\n",
    "        res_mid, h = solutionShooting(khi_mid, RungeKuttaFunc, h)\n",
    "        if equationTarget(*res_mid) * equationTarget(*res_l) < 0:\n",
    "            khi_r = khi_mid\n",
    "        else:\n",
    "            khi_l = khi_mid\n",
    "        print(f\"khi = {khi_mid}, yR = {res_mid[0]}, FR = {res_mid[1]}, h = {h}\")\n",
    "    print(f\"\\nSolution: khi = {khi_mid}, yR = {res_mid[0]}, FR = {res_mid[1]}, h = {h}\")\n",
    "    return khi_mid, h\n",
    "\n",
    "h_st = 1e-2\n",
    "khi_solution, h_solution = HalfDivMethod(RungeKutta4, h_st)\n",
    "\n"
   ]
  },
  {
   "cell_type": "code",
   "execution_count": null,
   "metadata": {},
   "outputs": [
    {
     "name": "stdout",
     "output_type": "stream",
     "text": [
      "khi = 0.15343475341796878, h = 0.00125\n"
     ]
    },
    {
     "data": {
      "application/vnd.plotly.v1+json": {
       "config": {
        "plotlyServerURL": "https://plot.ly"
       },
       "data": [
        {
         "hovertemplate": "label=u(r)<br>r=%{x}<br>f=%{y}<extra></extra>",
         "legendgroup": "u(r)",
         "line": {
          "color": "#636efa",
          "dash": "solid"
         },
         "marker": {
          "symbol": "circle"
         },
         "mode": "lines+markers",
         "name": "u(r)",
         "orientation": "v",
         "showlegend": true,
         "type": "scatter",
         "x": {
          "bdata": "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",
          "dtype": "f8"
         },
         "xaxis": "x",
         "y": {
          "bdata": "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",
          "dtype": "f8"
         },
         "yaxis": "y"
        },
        {
         "hovertemplate": "label=up(r)<br>r=%{x}<br>f=%{y}<extra></extra>",
         "legendgroup": "up(r)",
         "line": {
          "color": "#EF553B",
          "dash": "solid"
         },
         "marker": {
          "symbol": "circle"
         },
         "mode": "lines+markers",
         "name": "up(r)",
         "orientation": "v",
         "showlegend": true,
         "type": "scatter",
         "x": {
          "bdata": "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",
          "dtype": "f8"
         },
         "xaxis": "x",
         "y": {
          "bdata": "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",
          "dtype": "f8"
         },
         "yaxis": "y"
        }
       ],
       "layout": {
        "legend": {
         "title": {
          "text": "label"
         },
         "tracegroupgap": 0
        },
        "margin": {
         "t": 60
        },
        "template": {
         "data": {
          "bar": [
           {
            "error_x": {
             "color": "#2a3f5f"
            },
            "error_y": {
             "color": "#2a3f5f"
            },
            "marker": {
             "line": {
              "color": "#E5ECF6",
              "width": 0.5
             },
             "pattern": {
              "fillmode": "overlay",
              "size": 10,
              "solidity": 0.2
             }
            },
            "type": "bar"
           }
          ],
          "barpolar": [
           {
            "marker": {
             "line": {
              "color": "#E5ECF6",
              "width": 0.5
             },
             "pattern": {
              "fillmode": "overlay",
              "size": 10,
              "solidity": 0.2
             }
            },
            "type": "barpolar"
           }
          ],
          "carpet": [
           {
            "aaxis": {
             "endlinecolor": "#2a3f5f",
             "gridcolor": "white",
             "linecolor": "white",
             "minorgridcolor": "white",
             "startlinecolor": "#2a3f5f"
            },
            "baxis": {
             "endlinecolor": "#2a3f5f",
             "gridcolor": "white",
             "linecolor": "white",
             "minorgridcolor": "white",
             "startlinecolor": "#2a3f5f"
            },
            "type": "carpet"
           }
          ],
          "choropleth": [
           {
            "colorbar": {
             "outlinewidth": 0,
             "ticks": ""
            },
            "type": "choropleth"
           }
          ],
          "contour": [
           {
            "colorbar": {
             "outlinewidth": 0,
             "ticks": ""
            },
            "colorscale": [
             [
              0,
              "#0d0887"
             ],
             [
              0.1111111111111111,
              "#46039f"
             ],
             [
              0.2222222222222222,
              "#7201a8"
             ],
             [
              0.3333333333333333,
              "#9c179e"
             ],
             [
              0.4444444444444444,
              "#bd3786"
             ],
             [
              0.5555555555555556,
              "#d8576b"
             ],
             [
              0.6666666666666666,
              "#ed7953"
             ],
             [
              0.7777777777777778,
              "#fb9f3a"
             ],
             [
              0.8888888888888888,
              "#fdca26"
             ],
             [
              1,
              "#f0f921"
             ]
            ],
            "type": "contour"
           }
          ],
          "contourcarpet": [
           {
            "colorbar": {
             "outlinewidth": 0,
             "ticks": ""
            },
            "type": "contourcarpet"
           }
          ],
          "heatmap": [
           {
            "colorbar": {
             "outlinewidth": 0,
             "ticks": ""
            },
            "colorscale": [
             [
              0,
              "#0d0887"
             ],
             [
              0.1111111111111111,
              "#46039f"
             ],
             [
              0.2222222222222222,
              "#7201a8"
             ],
             [
              0.3333333333333333,
              "#9c179e"
             ],
             [
              0.4444444444444444,
              "#bd3786"
             ],
             [
              0.5555555555555556,
              "#d8576b"
             ],
             [
              0.6666666666666666,
              "#ed7953"
             ],
             [
              0.7777777777777778,
              "#fb9f3a"
             ],
             [
              0.8888888888888888,
              "#fdca26"
             ],
             [
              1,
              "#f0f921"
             ]
            ],
            "type": "heatmap"
           }
          ],
          "histogram": [
           {
            "marker": {
             "pattern": {
              "fillmode": "overlay",
              "size": 10,
              "solidity": 0.2
             }
            },
            "type": "histogram"
           }
          ],
          "histogram2d": [
           {
            "colorbar": {
             "outlinewidth": 0,
             "ticks": ""
            },
            "colorscale": [
             [
              0,
              "#0d0887"
             ],
             [
              0.1111111111111111,
              "#46039f"
             ],
             [
              0.2222222222222222,
              "#7201a8"
             ],
             [
              0.3333333333333333,
              "#9c179e"
             ],
             [
              0.4444444444444444,
              "#bd3786"
             ],
             [
              0.5555555555555556,
              "#d8576b"
             ],
             [
              0.6666666666666666,
              "#ed7953"
             ],
             [
              0.7777777777777778,
              "#fb9f3a"
             ],
             [
              0.8888888888888888,
              "#fdca26"
             ],
             [
              1,
              "#f0f921"
             ]
            ],
            "type": "histogram2d"
           }
          ],
          "histogram2dcontour": [
           {
            "colorbar": {
             "outlinewidth": 0,
             "ticks": ""
            },
            "colorscale": [
             [
              0,
              "#0d0887"
             ],
             [
              0.1111111111111111,
              "#46039f"
             ],
             [
              0.2222222222222222,
              "#7201a8"
             ],
             [
              0.3333333333333333,
              "#9c179e"
             ],
             [
              0.4444444444444444,
              "#bd3786"
             ],
             [
              0.5555555555555556,
              "#d8576b"
             ],
             [
              0.6666666666666666,
              "#ed7953"
             ],
             [
              0.7777777777777778,
              "#fb9f3a"
             ],
             [
              0.8888888888888888,
              "#fdca26"
             ],
             [
              1,
              "#f0f921"
             ]
            ],
            "type": "histogram2dcontour"
           }
          ],
          "mesh3d": [
           {
            "colorbar": {
             "outlinewidth": 0,
             "ticks": ""
            },
            "type": "mesh3d"
           }
          ],
          "parcoords": [
           {
            "line": {
             "colorbar": {
              "outlinewidth": 0,
              "ticks": ""
             }
            },
            "type": "parcoords"
           }
          ],
          "pie": [
           {
            "automargin": true,
            "type": "pie"
           }
          ],
          "scatter": [
           {
            "fillpattern": {
             "fillmode": "overlay",
             "size": 10,
             "solidity": 0.2
            },
            "type": "scatter"
           }
          ],
          "scatter3d": [
           {
            "line": {
             "colorbar": {
              "outlinewidth": 0,
              "ticks": ""
             }
            },
            "marker": {
             "colorbar": {
              "outlinewidth": 0,
              "ticks": ""
             }
            },
            "type": "scatter3d"
           }
          ],
          "scattercarpet": [
           {
            "marker": {
             "colorbar": {
              "outlinewidth": 0,
              "ticks": ""
             }
            },
            "type": "scattercarpet"
           }
          ],
          "scattergeo": [
           {
            "marker": {
             "colorbar": {
              "outlinewidth": 0,
              "ticks": ""
             }
            },
            "type": "scattergeo"
           }
          ],
          "scattergl": [
           {
            "marker": {
             "colorbar": {
              "outlinewidth": 0,
              "ticks": ""
             }
            },
            "type": "scattergl"
           }
          ],
          "scattermap": [
           {
            "marker": {
             "colorbar": {
              "outlinewidth": 0,
              "ticks": ""
             }
            },
            "type": "scattermap"
           }
          ],
          "scattermapbox": [
           {
            "marker": {
             "colorbar": {
              "outlinewidth": 0,
              "ticks": ""
             }
            },
            "type": "scattermapbox"
           }
          ],
          "scatterpolar": [
           {
            "marker": {
             "colorbar": {
              "outlinewidth": 0,
              "ticks": ""
             }
            },
            "type": "scatterpolar"
           }
          ],
          "scatterpolargl": [
           {
            "marker": {
             "colorbar": {
              "outlinewidth": 0,
              "ticks": ""
             }
            },
            "type": "scatterpolargl"
           }
          ],
          "scatterternary": [
           {
            "marker": {
             "colorbar": {
              "outlinewidth": 0,
              "ticks": ""
             }
            },
            "type": "scatterternary"
           }
          ],
          "surface": [
           {
            "colorbar": {
             "outlinewidth": 0,
             "ticks": ""
            },
            "colorscale": [
             [
              0,
              "#0d0887"
             ],
             [
              0.1111111111111111,
              "#46039f"
             ],
             [
              0.2222222222222222,
              "#7201a8"
             ],
             [
              0.3333333333333333,
              "#9c179e"
             ],
             [
              0.4444444444444444,
              "#bd3786"
             ],
             [
              0.5555555555555556,
              "#d8576b"
             ],
             [
              0.6666666666666666,
              "#ed7953"
             ],
             [
              0.7777777777777778,
              "#fb9f3a"
             ],
             [
              0.8888888888888888,
              "#fdca26"
             ],
             [
              1,
              "#f0f921"
             ]
            ],
            "type": "surface"
           }
          ],
          "table": [
           {
            "cells": {
             "fill": {
              "color": "#EBF0F8"
             },
             "line": {
              "color": "white"
             }
            },
            "header": {
             "fill": {
              "color": "#C8D4E3"
             },
             "line": {
              "color": "white"
             }
            },
            "type": "table"
           }
          ]
         },
         "layout": {
          "annotationdefaults": {
           "arrowcolor": "#2a3f5f",
           "arrowhead": 0,
           "arrowwidth": 1
          },
          "autotypenumbers": "strict",
          "coloraxis": {
           "colorbar": {
            "outlinewidth": 0,
            "ticks": ""
           }
          },
          "colorscale": {
           "diverging": [
            [
             0,
             "#8e0152"
            ],
            [
             0.1,
             "#c51b7d"
            ],
            [
             0.2,
             "#de77ae"
            ],
            [
             0.3,
             "#f1b6da"
            ],
            [
             0.4,
             "#fde0ef"
            ],
            [
             0.5,
             "#f7f7f7"
            ],
            [
             0.6,
             "#e6f5d0"
            ],
            [
             0.7,
             "#b8e186"
            ],
            [
             0.8,
             "#7fbc41"
            ],
            [
             0.9,
             "#4d9221"
            ],
            [
             1,
             "#276419"
            ]
           ],
           "sequential": [
            [
             0,
             "#0d0887"
            ],
            [
             0.1111111111111111,
             "#46039f"
            ],
            [
             0.2222222222222222,
             "#7201a8"
            ],
            [
             0.3333333333333333,
             "#9c179e"
            ],
            [
             0.4444444444444444,
             "#bd3786"
            ],
            [
             0.5555555555555556,
             "#d8576b"
            ],
            [
             0.6666666666666666,
             "#ed7953"
            ],
            [
             0.7777777777777778,
             "#fb9f3a"
            ],
            [
             0.8888888888888888,
             "#fdca26"
            ],
            [
             1,
             "#f0f921"
            ]
           ],
           "sequentialminus": [
            [
             0,
             "#0d0887"
            ],
            [
             0.1111111111111111,
             "#46039f"
            ],
            [
             0.2222222222222222,
             "#7201a8"
            ],
            [
             0.3333333333333333,
             "#9c179e"
            ],
            [
             0.4444444444444444,
             "#bd3786"
            ],
            [
             0.5555555555555556,
             "#d8576b"
            ],
            [
             0.6666666666666666,
             "#ed7953"
            ],
            [
             0.7777777777777778,
             "#fb9f3a"
            ],
            [
             0.8888888888888888,
             "#fdca26"
            ],
            [
             1,
             "#f0f921"
            ]
           ]
          },
          "colorway": [
           "#636efa",
           "#EF553B",
           "#00cc96",
           "#ab63fa",
           "#FFA15A",
           "#19d3f3",
           "#FF6692",
           "#B6E880",
           "#FF97FF",
           "#FECB52"
          ],
          "font": {
           "color": "#2a3f5f"
          },
          "geo": {
           "bgcolor": "white",
           "lakecolor": "white",
           "landcolor": "#E5ECF6",
           "showlakes": true,
           "showland": true,
           "subunitcolor": "white"
          },
          "hoverlabel": {
           "align": "left"
          },
          "hovermode": "closest",
          "mapbox": {
           "style": "light"
          },
          "paper_bgcolor": "white",
          "plot_bgcolor": "#E5ECF6",
          "polar": {
           "angularaxis": {
            "gridcolor": "white",
            "linecolor": "white",
            "ticks": ""
           },
           "bgcolor": "#E5ECF6",
           "radialaxis": {
            "gridcolor": "white",
            "linecolor": "white",
            "ticks": ""
           }
          },
          "scene": {
           "xaxis": {
            "backgroundcolor": "#E5ECF6",
            "gridcolor": "white",
            "gridwidth": 2,
            "linecolor": "white",
            "showbackground": true,
            "ticks": "",
            "zerolinecolor": "white"
           },
           "yaxis": {
            "backgroundcolor": "#E5ECF6",
            "gridcolor": "white",
            "gridwidth": 2,
            "linecolor": "white",
            "showbackground": true,
            "ticks": "",
            "zerolinecolor": "white"
           },
           "zaxis": {
            "backgroundcolor": "#E5ECF6",
            "gridcolor": "white",
            "gridwidth": 2,
            "linecolor": "white",
            "showbackground": true,
            "ticks": "",
            "zerolinecolor": "white"
           }
          },
          "shapedefaults": {
           "line": {
            "color": "#2a3f5f"
           }
          },
          "ternary": {
           "aaxis": {
            "gridcolor": "white",
            "linecolor": "white",
            "ticks": ""
           },
           "baxis": {
            "gridcolor": "white",
            "linecolor": "white",
            "ticks": ""
           },
           "bgcolor": "#E5ECF6",
           "caxis": {
            "gridcolor": "white",
            "linecolor": "white",
            "ticks": ""
           }
          },
          "title": {
           "x": 0.05
          },
          "xaxis": {
           "automargin": true,
           "gridcolor": "white",
           "linecolor": "white",
           "ticks": "",
           "title": {
            "standoff": 15
           },
           "zerolinecolor": "white",
           "zerolinewidth": 2
          },
          "yaxis": {
           "automargin": true,
           "gridcolor": "white",
           "linecolor": "white",
           "ticks": "",
           "title": {
            "standoff": 15
           },
           "zerolinecolor": "white",
           "zerolinewidth": 2
          }
         }
        },
        "xaxis": {
         "anchor": "y",
         "domain": [
          0,
          1
         ],
         "title": {
          "text": "r"
         }
        },
        "yaxis": {
         "anchor": "x",
         "domain": [
          0,
          1
         ],
         "title": {
          "text": "f"
         }
        }
       }
      }
     },
     "metadata": {},
     "output_type": "display_data"
    },
    {
     "data": {
      "application/vnd.plotly.v1+json": {
       "config": {
        "plotlyServerURL": "https://plot.ly"
       },
       "data": [
        {
         "hovertemplate": "label=F(r)<br>r=%{x}<br>f=%{y}<extra></extra>",
         "legendgroup": "F(r)",
         "line": {
          "color": "#636efa",
          "dash": "solid"
         },
         "marker": {
          "symbol": "circle"
         },
         "mode": "lines+markers",
         "name": "F(r)",
         "orientation": "v",
         "showlegend": true,
         "type": "scatter",
         "x": {
          "bdata": "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",
          "dtype": "f8"
         },
         "xaxis": "x",
         "y": {
          "bdata": "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",
          "dtype": "f8"
         },
         "yaxis": "y"
        }
       ],
       "layout": {
        "legend": {
         "title": {
          "text": "label"
         },
         "tracegroupgap": 0
        },
        "margin": {
         "t": 60
        },
        "template": {
         "data": {
          "bar": [
           {
            "error_x": {
             "color": "#2a3f5f"
            },
            "error_y": {
             "color": "#2a3f5f"
            },
            "marker": {
             "line": {
              "color": "#E5ECF6",
              "width": 0.5
             },
             "pattern": {
              "fillmode": "overlay",
              "size": 10,
              "solidity": 0.2
             }
            },
            "type": "bar"
           }
          ],
          "barpolar": [
           {
            "marker": {
             "line": {
              "color": "#E5ECF6",
              "width": 0.5
             },
             "pattern": {
              "fillmode": "overlay",
              "size": 10,
              "solidity": 0.2
             }
            },
            "type": "barpolar"
           }
          ],
          "carpet": [
           {
            "aaxis": {
             "endlinecolor": "#2a3f5f",
             "gridcolor": "white",
             "linecolor": "white",
             "minorgridcolor": "white",
             "startlinecolor": "#2a3f5f"
            },
            "baxis": {
             "endlinecolor": "#2a3f5f",
             "gridcolor": "white",
             "linecolor": "white",
             "minorgridcolor": "white",
             "startlinecolor": "#2a3f5f"
            },
            "type": "carpet"
           }
          ],
          "choropleth": [
           {
            "colorbar": {
             "outlinewidth": 0,
             "ticks": ""
            },
            "type": "choropleth"
           }
          ],
          "contour": [
           {
            "colorbar": {
             "outlinewidth": 0,
             "ticks": ""
            },
            "colorscale": [
             [
              0,
              "#0d0887"
             ],
             [
              0.1111111111111111,
              "#46039f"
             ],
             [
              0.2222222222222222,
              "#7201a8"
             ],
             [
              0.3333333333333333,
              "#9c179e"
             ],
             [
              0.4444444444444444,
              "#bd3786"
             ],
             [
              0.5555555555555556,
              "#d8576b"
             ],
             [
              0.6666666666666666,
              "#ed7953"
             ],
             [
              0.7777777777777778,
              "#fb9f3a"
             ],
             [
              0.8888888888888888,
              "#fdca26"
             ],
             [
              1,
              "#f0f921"
             ]
            ],
            "type": "contour"
           }
          ],
          "contourcarpet": [
           {
            "colorbar": {
             "outlinewidth": 0,
             "ticks": ""
            },
            "type": "contourcarpet"
           }
          ],
          "heatmap": [
           {
            "colorbar": {
             "outlinewidth": 0,
             "ticks": ""
            },
            "colorscale": [
             [
              0,
              "#0d0887"
             ],
             [
              0.1111111111111111,
              "#46039f"
             ],
             [
              0.2222222222222222,
              "#7201a8"
             ],
             [
              0.3333333333333333,
              "#9c179e"
             ],
             [
              0.4444444444444444,
              "#bd3786"
             ],
             [
              0.5555555555555556,
              "#d8576b"
             ],
             [
              0.6666666666666666,
              "#ed7953"
             ],
             [
              0.7777777777777778,
              "#fb9f3a"
             ],
             [
              0.8888888888888888,
              "#fdca26"
             ],
             [
              1,
              "#f0f921"
             ]
            ],
            "type": "heatmap"
           }
          ],
          "histogram": [
           {
            "marker": {
             "pattern": {
              "fillmode": "overlay",
              "size": 10,
              "solidity": 0.2
             }
            },
            "type": "histogram"
           }
          ],
          "histogram2d": [
           {
            "colorbar": {
             "outlinewidth": 0,
             "ticks": ""
            },
            "colorscale": [
             [
              0,
              "#0d0887"
             ],
             [
              0.1111111111111111,
              "#46039f"
             ],
             [
              0.2222222222222222,
              "#7201a8"
             ],
             [
              0.3333333333333333,
              "#9c179e"
             ],
             [
              0.4444444444444444,
              "#bd3786"
             ],
             [
              0.5555555555555556,
              "#d8576b"
             ],
             [
              0.6666666666666666,
              "#ed7953"
             ],
             [
              0.7777777777777778,
              "#fb9f3a"
             ],
             [
              0.8888888888888888,
              "#fdca26"
             ],
             [
              1,
              "#f0f921"
             ]
            ],
            "type": "histogram2d"
           }
          ],
          "histogram2dcontour": [
           {
            "colorbar": {
             "outlinewidth": 0,
             "ticks": ""
            },
            "colorscale": [
             [
              0,
              "#0d0887"
             ],
             [
              0.1111111111111111,
              "#46039f"
             ],
             [
              0.2222222222222222,
              "#7201a8"
             ],
             [
              0.3333333333333333,
              "#9c179e"
             ],
             [
              0.4444444444444444,
              "#bd3786"
             ],
             [
              0.5555555555555556,
              "#d8576b"
             ],
             [
              0.6666666666666666,
              "#ed7953"
             ],
             [
              0.7777777777777778,
              "#fb9f3a"
             ],
             [
              0.8888888888888888,
              "#fdca26"
             ],
             [
              1,
              "#f0f921"
             ]
            ],
            "type": "histogram2dcontour"
           }
          ],
          "mesh3d": [
           {
            "colorbar": {
             "outlinewidth": 0,
             "ticks": ""
            },
            "type": "mesh3d"
           }
          ],
          "parcoords": [
           {
            "line": {
             "colorbar": {
              "outlinewidth": 0,
              "ticks": ""
             }
            },
            "type": "parcoords"
           }
          ],
          "pie": [
           {
            "automargin": true,
            "type": "pie"
           }
          ],
          "scatter": [
           {
            "fillpattern": {
             "fillmode": "overlay",
             "size": 10,
             "solidity": 0.2
            },
            "type": "scatter"
           }
          ],
          "scatter3d": [
           {
            "line": {
             "colorbar": {
              "outlinewidth": 0,
              "ticks": ""
             }
            },
            "marker": {
             "colorbar": {
              "outlinewidth": 0,
              "ticks": ""
             }
            },
            "type": "scatter3d"
           }
          ],
          "scattercarpet": [
           {
            "marker": {
             "colorbar": {
              "outlinewidth": 0,
              "ticks": ""
             }
            },
            "type": "scattercarpet"
           }
          ],
          "scattergeo": [
           {
            "marker": {
             "colorbar": {
              "outlinewidth": 0,
              "ticks": ""
             }
            },
            "type": "scattergeo"
           }
          ],
          "scattergl": [
           {
            "marker": {
             "colorbar": {
              "outlinewidth": 0,
              "ticks": ""
             }
            },
            "type": "scattergl"
           }
          ],
          "scattermap": [
           {
            "marker": {
             "colorbar": {
              "outlinewidth": 0,
              "ticks": ""
             }
            },
            "type": "scattermap"
           }
          ],
          "scattermapbox": [
           {
            "marker": {
             "colorbar": {
              "outlinewidth": 0,
              "ticks": ""
             }
            },
            "type": "scattermapbox"
           }
          ],
          "scatterpolar": [
           {
            "marker": {
             "colorbar": {
              "outlinewidth": 0,
              "ticks": ""
             }
            },
            "type": "scatterpolar"
           }
          ],
          "scatterpolargl": [
           {
            "marker": {
             "colorbar": {
              "outlinewidth": 0,
              "ticks": ""
             }
            },
            "type": "scatterpolargl"
           }
          ],
          "scatterternary": [
           {
            "marker": {
             "colorbar": {
              "outlinewidth": 0,
              "ticks": ""
             }
            },
            "type": "scatterternary"
           }
          ],
          "surface": [
           {
            "colorbar": {
             "outlinewidth": 0,
             "ticks": ""
            },
            "colorscale": [
             [
              0,
              "#0d0887"
             ],
             [
              0.1111111111111111,
              "#46039f"
             ],
             [
              0.2222222222222222,
              "#7201a8"
             ],
             [
              0.3333333333333333,
              "#9c179e"
             ],
             [
              0.4444444444444444,
              "#bd3786"
             ],
             [
              0.5555555555555556,
              "#d8576b"
             ],
             [
              0.6666666666666666,
              "#ed7953"
             ],
             [
              0.7777777777777778,
              "#fb9f3a"
             ],
             [
              0.8888888888888888,
              "#fdca26"
             ],
             [
              1,
              "#f0f921"
             ]
            ],
            "type": "surface"
           }
          ],
          "table": [
           {
            "cells": {
             "fill": {
              "color": "#EBF0F8"
             },
             "line": {
              "color": "white"
             }
            },
            "header": {
             "fill": {
              "color": "#C8D4E3"
             },
             "line": {
              "color": "white"
             }
            },
            "type": "table"
           }
          ]
         },
         "layout": {
          "annotationdefaults": {
           "arrowcolor": "#2a3f5f",
           "arrowhead": 0,
           "arrowwidth": 1
          },
          "autotypenumbers": "strict",
          "coloraxis": {
           "colorbar": {
            "outlinewidth": 0,
            "ticks": ""
           }
          },
          "colorscale": {
           "diverging": [
            [
             0,
             "#8e0152"
            ],
            [
             0.1,
             "#c51b7d"
            ],
            [
             0.2,
             "#de77ae"
            ],
            [
             0.3,
             "#f1b6da"
            ],
            [
             0.4,
             "#fde0ef"
            ],
            [
             0.5,
             "#f7f7f7"
            ],
            [
             0.6,
             "#e6f5d0"
            ],
            [
             0.7,
             "#b8e186"
            ],
            [
             0.8,
             "#7fbc41"
            ],
            [
             0.9,
             "#4d9221"
            ],
            [
             1,
             "#276419"
            ]
           ],
           "sequential": [
            [
             0,
             "#0d0887"
            ],
            [
             0.1111111111111111,
             "#46039f"
            ],
            [
             0.2222222222222222,
             "#7201a8"
            ],
            [
             0.3333333333333333,
             "#9c179e"
            ],
            [
             0.4444444444444444,
             "#bd3786"
            ],
            [
             0.5555555555555556,
             "#d8576b"
            ],
            [
             0.6666666666666666,
             "#ed7953"
            ],
            [
             0.7777777777777778,
             "#fb9f3a"
            ],
            [
             0.8888888888888888,
             "#fdca26"
            ],
            [
             1,
             "#f0f921"
            ]
           ],
           "sequentialminus": [
            [
             0,
             "#0d0887"
            ],
            [
             0.1111111111111111,
             "#46039f"
            ],
            [
             0.2222222222222222,
             "#7201a8"
            ],
            [
             0.3333333333333333,
             "#9c179e"
            ],
            [
             0.4444444444444444,
             "#bd3786"
            ],
            [
             0.5555555555555556,
             "#d8576b"
            ],
            [
             0.6666666666666666,
             "#ed7953"
            ],
            [
             0.7777777777777778,
             "#fb9f3a"
            ],
            [
             0.8888888888888888,
             "#fdca26"
            ],
            [
             1,
             "#f0f921"
            ]
           ]
          },
          "colorway": [
           "#636efa",
           "#EF553B",
           "#00cc96",
           "#ab63fa",
           "#FFA15A",
           "#19d3f3",
           "#FF6692",
           "#B6E880",
           "#FF97FF",
           "#FECB52"
          ],
          "font": {
           "color": "#2a3f5f"
          },
          "geo": {
           "bgcolor": "white",
           "lakecolor": "white",
           "landcolor": "#E5ECF6",
           "showlakes": true,
           "showland": true,
           "subunitcolor": "white"
          },
          "hoverlabel": {
           "align": "left"
          },
          "hovermode": "closest",
          "mapbox": {
           "style": "light"
          },
          "paper_bgcolor": "white",
          "plot_bgcolor": "#E5ECF6",
          "polar": {
           "angularaxis": {
            "gridcolor": "white",
            "linecolor": "white",
            "ticks": ""
           },
           "bgcolor": "#E5ECF6",
           "radialaxis": {
            "gridcolor": "white",
            "linecolor": "white",
            "ticks": ""
           }
          },
          "scene": {
           "xaxis": {
            "backgroundcolor": "#E5ECF6",
            "gridcolor": "white",
            "gridwidth": 2,
            "linecolor": "white",
            "showbackground": true,
            "ticks": "",
            "zerolinecolor": "white"
           },
           "yaxis": {
            "backgroundcolor": "#E5ECF6",
            "gridcolor": "white",
            "gridwidth": 2,
            "linecolor": "white",
            "showbackground": true,
            "ticks": "",
            "zerolinecolor": "white"
           },
           "zaxis": {
            "backgroundcolor": "#E5ECF6",
            "gridcolor": "white",
            "gridwidth": 2,
            "linecolor": "white",
            "showbackground": true,
            "ticks": "",
            "zerolinecolor": "white"
           }
          },
          "shapedefaults": {
           "line": {
            "color": "#2a3f5f"
           }
          },
          "ternary": {
           "aaxis": {
            "gridcolor": "white",
            "linecolor": "white",
            "ticks": ""
           },
           "baxis": {
            "gridcolor": "white",
            "linecolor": "white",
            "ticks": ""
           },
           "bgcolor": "#E5ECF6",
           "caxis": {
            "gridcolor": "white",
            "linecolor": "white",
            "ticks": ""
           }
          },
          "title": {
           "x": 0.05
          },
          "xaxis": {
           "automargin": true,
           "gridcolor": "white",
           "linecolor": "white",
           "ticks": "",
           "title": {
            "standoff": 15
           },
           "zerolinecolor": "white",
           "zerolinewidth": 2
          },
          "yaxis": {
           "automargin": true,
           "gridcolor": "white",
           "linecolor": "white",
           "ticks": "",
           "title": {
            "standoff": 15
           },
           "zerolinecolor": "white",
           "zerolinewidth": 2
          }
         }
        },
        "xaxis": {
         "anchor": "y",
         "domain": [
          0,
          1
         ],
         "title": {
          "text": "r"
         }
        },
        "yaxis": {
         "anchor": "x",
         "domain": [
          0,
          1
         ],
         "title": {
          "text": "f"
         }
        }
       }
      }
     },
     "metadata": {},
     "output_type": "display_data"
    }
   ],
   "source": [
    "import plotly.express as px\n",
    "import pandas as pd\n",
    "\n",
    "RungeKutta = RungeKutta4\n",
    "y0 = get_y0(khi_solution)\n",
    "print(f\"khi = {khi_solution}, h = {h_solution}\")\n",
    "rvals, yvals, Fvals = RungeKutta(du, dF, r0, y0, z0, h_solution, rTarget)\n",
    "upvals = [up_r(ri) for ri in rvals]\n",
    "\n",
    "df1 = pd.DataFrame({\"r\": rvals, \"f\": yvals, \"label\": [\"u(r)\"] * len(rvals) })\n",
    "df2 = pd.DataFrame({\"r\": rvals, \"f\": Fvals, \"label\": [\"F(r)\"] * len(rvals)})\n",
    "df3 = pd.DataFrame({\"r\": rvals, \"f\": upvals, \"label\": [\"up(r)\"] * len(rvals)})\n",
    "\n",
    "df = pd.concat([df1, df3])\n",
    "fig2 = px.line(df, x=\"r\", y=\"f\", color=\"label\", title=\"\", markers = True)\n",
    "fig2.show()\n",
    "\n",
    "fig1 = px.line(df2, x=\"r\", y=\"f\", color=\"label\", title=\"\", markers = True)\n",
    "fig1.show()"
   ]
  },
  {
   "cell_type": "code",
   "execution_count": null,
   "metadata": {},
   "outputs": [
    {
     "data": {
      "application/vnd.plotly.v1+json": {
       "config": {
        "plotlyServerURL": "https://plot.ly"
       },
       "data": [
        {
         "hovertemplate": "label=T_r(r)<br>r=%{x}<br>T=%{y}<extra></extra>",
         "legendgroup": "T_r(r)",
         "line": {
          "color": "#636efa",
          "dash": "solid"
         },
         "marker": {
          "symbol": "circle"
         },
         "mode": "lines+markers",
         "name": "T_r(r)",
         "orientation": "v",
         "showlegend": true,
         "type": "scatter",
         "x": {
          "bdata": "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",
          "dtype": "f8"
         },
         "xaxis": "x",
         "y": {
          "bdata": "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",
          "dtype": "f8"
         },
         "yaxis": "y"
        }
       ],
       "layout": {
        "legend": {
         "title": {
          "text": "label"
         },
         "tracegroupgap": 0
        },
        "template": {
         "data": {
          "bar": [
           {
            "error_x": {
             "color": "#2a3f5f"
            },
            "error_y": {
             "color": "#2a3f5f"
            },
            "marker": {
             "line": {
              "color": "#E5ECF6",
              "width": 0.5
             },
             "pattern": {
              "fillmode": "overlay",
              "size": 10,
              "solidity": 0.2
             }
            },
            "type": "bar"
           }
          ],
          "barpolar": [
           {
            "marker": {
             "line": {
              "color": "#E5ECF6",
              "width": 0.5
             },
             "pattern": {
              "fillmode": "overlay",
              "size": 10,
              "solidity": 0.2
             }
            },
            "type": "barpolar"
           }
          ],
          "carpet": [
           {
            "aaxis": {
             "endlinecolor": "#2a3f5f",
             "gridcolor": "white",
             "linecolor": "white",
             "minorgridcolor": "white",
             "startlinecolor": "#2a3f5f"
            },
            "baxis": {
             "endlinecolor": "#2a3f5f",
             "gridcolor": "white",
             "linecolor": "white",
             "minorgridcolor": "white",
             "startlinecolor": "#2a3f5f"
            },
            "type": "carpet"
           }
          ],
          "choropleth": [
           {
            "colorbar": {
             "outlinewidth": 0,
             "ticks": ""
            },
            "type": "choropleth"
           }
          ],
          "contour": [
           {
            "colorbar": {
             "outlinewidth": 0,
             "ticks": ""
            },
            "colorscale": [
             [
              0,
              "#0d0887"
             ],
             [
              0.1111111111111111,
              "#46039f"
             ],
             [
              0.2222222222222222,
              "#7201a8"
             ],
             [
              0.3333333333333333,
              "#9c179e"
             ],
             [
              0.4444444444444444,
              "#bd3786"
             ],
             [
              0.5555555555555556,
              "#d8576b"
             ],
             [
              0.6666666666666666,
              "#ed7953"
             ],
             [
              0.7777777777777778,
              "#fb9f3a"
             ],
             [
              0.8888888888888888,
              "#fdca26"
             ],
             [
              1,
              "#f0f921"
             ]
            ],
            "type": "contour"
           }
          ],
          "contourcarpet": [
           {
            "colorbar": {
             "outlinewidth": 0,
             "ticks": ""
            },
            "type": "contourcarpet"
           }
          ],
          "heatmap": [
           {
            "colorbar": {
             "outlinewidth": 0,
             "ticks": ""
            },
            "colorscale": [
             [
              0,
              "#0d0887"
             ],
             [
              0.1111111111111111,
              "#46039f"
             ],
             [
              0.2222222222222222,
              "#7201a8"
             ],
             [
              0.3333333333333333,
              "#9c179e"
             ],
             [
              0.4444444444444444,
              "#bd3786"
             ],
             [
              0.5555555555555556,
              "#d8576b"
             ],
             [
              0.6666666666666666,
              "#ed7953"
             ],
             [
              0.7777777777777778,
              "#fb9f3a"
             ],
             [
              0.8888888888888888,
              "#fdca26"
             ],
             [
              1,
              "#f0f921"
             ]
            ],
            "type": "heatmap"
           }
          ],
          "histogram": [
           {
            "marker": {
             "pattern": {
              "fillmode": "overlay",
              "size": 10,
              "solidity": 0.2
             }
            },
            "type": "histogram"
           }
          ],
          "histogram2d": [
           {
            "colorbar": {
             "outlinewidth": 0,
             "ticks": ""
            },
            "colorscale": [
             [
              0,
              "#0d0887"
             ],
             [
              0.1111111111111111,
              "#46039f"
             ],
             [
              0.2222222222222222,
              "#7201a8"
             ],
             [
              0.3333333333333333,
              "#9c179e"
             ],
             [
              0.4444444444444444,
              "#bd3786"
             ],
             [
              0.5555555555555556,
              "#d8576b"
             ],
             [
              0.6666666666666666,
              "#ed7953"
             ],
             [
              0.7777777777777778,
              "#fb9f3a"
             ],
             [
              0.8888888888888888,
              "#fdca26"
             ],
             [
              1,
              "#f0f921"
             ]
            ],
            "type": "histogram2d"
           }
          ],
          "histogram2dcontour": [
           {
            "colorbar": {
             "outlinewidth": 0,
             "ticks": ""
            },
            "colorscale": [
             [
              0,
              "#0d0887"
             ],
             [
              0.1111111111111111,
              "#46039f"
             ],
             [
              0.2222222222222222,
              "#7201a8"
             ],
             [
              0.3333333333333333,
              "#9c179e"
             ],
             [
              0.4444444444444444,
              "#bd3786"
             ],
             [
              0.5555555555555556,
              "#d8576b"
             ],
             [
              0.6666666666666666,
              "#ed7953"
             ],
             [
              0.7777777777777778,
              "#fb9f3a"
             ],
             [
              0.8888888888888888,
              "#fdca26"
             ],
             [
              1,
              "#f0f921"
             ]
            ],
            "type": "histogram2dcontour"
           }
          ],
          "mesh3d": [
           {
            "colorbar": {
             "outlinewidth": 0,
             "ticks": ""
            },
            "type": "mesh3d"
           }
          ],
          "parcoords": [
           {
            "line": {
             "colorbar": {
              "outlinewidth": 0,
              "ticks": ""
             }
            },
            "type": "parcoords"
           }
          ],
          "pie": [
           {
            "automargin": true,
            "type": "pie"
           }
          ],
          "scatter": [
           {
            "fillpattern": {
             "fillmode": "overlay",
             "size": 10,
             "solidity": 0.2
            },
            "type": "scatter"
           }
          ],
          "scatter3d": [
           {
            "line": {
             "colorbar": {
              "outlinewidth": 0,
              "ticks": ""
             }
            },
            "marker": {
             "colorbar": {
              "outlinewidth": 0,
              "ticks": ""
             }
            },
            "type": "scatter3d"
           }
          ],
          "scattercarpet": [
           {
            "marker": {
             "colorbar": {
              "outlinewidth": 0,
              "ticks": ""
             }
            },
            "type": "scattercarpet"
           }
          ],
          "scattergeo": [
           {
            "marker": {
             "colorbar": {
              "outlinewidth": 0,
              "ticks": ""
             }
            },
            "type": "scattergeo"
           }
          ],
          "scattergl": [
           {
            "marker": {
             "colorbar": {
              "outlinewidth": 0,
              "ticks": ""
             }
            },
            "type": "scattergl"
           }
          ],
          "scattermap": [
           {
            "marker": {
             "colorbar": {
              "outlinewidth": 0,
              "ticks": ""
             }
            },
            "type": "scattermap"
           }
          ],
          "scattermapbox": [
           {
            "marker": {
             "colorbar": {
              "outlinewidth": 0,
              "ticks": ""
             }
            },
            "type": "scattermapbox"
           }
          ],
          "scatterpolar": [
           {
            "marker": {
             "colorbar": {
              "outlinewidth": 0,
              "ticks": ""
             }
            },
            "type": "scatterpolar"
           }
          ],
          "scatterpolargl": [
           {
            "marker": {
             "colorbar": {
              "outlinewidth": 0,
              "ticks": ""
             }
            },
            "type": "scatterpolargl"
           }
          ],
          "scatterternary": [
           {
            "marker": {
             "colorbar": {
              "outlinewidth": 0,
              "ticks": ""
             }
            },
            "type": "scatterternary"
           }
          ],
          "surface": [
           {
            "colorbar": {
             "outlinewidth": 0,
             "ticks": ""
            },
            "colorscale": [
             [
              0,
              "#0d0887"
             ],
             [
              0.1111111111111111,
              "#46039f"
             ],
             [
              0.2222222222222222,
              "#7201a8"
             ],
             [
              0.3333333333333333,
              "#9c179e"
             ],
             [
              0.4444444444444444,
              "#bd3786"
             ],
             [
              0.5555555555555556,
              "#d8576b"
             ],
             [
              0.6666666666666666,
              "#ed7953"
             ],
             [
              0.7777777777777778,
              "#fb9f3a"
             ],
             [
              0.8888888888888888,
              "#fdca26"
             ],
             [
              1,
              "#f0f921"
             ]
            ],
            "type": "surface"
           }
          ],
          "table": [
           {
            "cells": {
             "fill": {
              "color": "#EBF0F8"
             },
             "line": {
              "color": "white"
             }
            },
            "header": {
             "fill": {
              "color": "#C8D4E3"
             },
             "line": {
              "color": "white"
             }
            },
            "type": "table"
           }
          ]
         },
         "layout": {
          "annotationdefaults": {
           "arrowcolor": "#2a3f5f",
           "arrowhead": 0,
           "arrowwidth": 1
          },
          "autotypenumbers": "strict",
          "coloraxis": {
           "colorbar": {
            "outlinewidth": 0,
            "ticks": ""
           }
          },
          "colorscale": {
           "diverging": [
            [
             0,
             "#8e0152"
            ],
            [
             0.1,
             "#c51b7d"
            ],
            [
             0.2,
             "#de77ae"
            ],
            [
             0.3,
             "#f1b6da"
            ],
            [
             0.4,
             "#fde0ef"
            ],
            [
             0.5,
             "#f7f7f7"
            ],
            [
             0.6,
             "#e6f5d0"
            ],
            [
             0.7,
             "#b8e186"
            ],
            [
             0.8,
             "#7fbc41"
            ],
            [
             0.9,
             "#4d9221"
            ],
            [
             1,
             "#276419"
            ]
           ],
           "sequential": [
            [
             0,
             "#0d0887"
            ],
            [
             0.1111111111111111,
             "#46039f"
            ],
            [
             0.2222222222222222,
             "#7201a8"
            ],
            [
             0.3333333333333333,
             "#9c179e"
            ],
            [
             0.4444444444444444,
             "#bd3786"
            ],
            [
             0.5555555555555556,
             "#d8576b"
            ],
            [
             0.6666666666666666,
             "#ed7953"
            ],
            [
             0.7777777777777778,
             "#fb9f3a"
            ],
            [
             0.8888888888888888,
             "#fdca26"
            ],
            [
             1,
             "#f0f921"
            ]
           ],
           "sequentialminus": [
            [
             0,
             "#0d0887"
            ],
            [
             0.1111111111111111,
             "#46039f"
            ],
            [
             0.2222222222222222,
             "#7201a8"
            ],
            [
             0.3333333333333333,
             "#9c179e"
            ],
            [
             0.4444444444444444,
             "#bd3786"
            ],
            [
             0.5555555555555556,
             "#d8576b"
            ],
            [
             0.6666666666666666,
             "#ed7953"
            ],
            [
             0.7777777777777778,
             "#fb9f3a"
            ],
            [
             0.8888888888888888,
             "#fdca26"
            ],
            [
             1,
             "#f0f921"
            ]
           ]
          },
          "colorway": [
           "#636efa",
           "#EF553B",
           "#00cc96",
           "#ab63fa",
           "#FFA15A",
           "#19d3f3",
           "#FF6692",
           "#B6E880",
           "#FF97FF",
           "#FECB52"
          ],
          "font": {
           "color": "#2a3f5f"
          },
          "geo": {
           "bgcolor": "white",
           "lakecolor": "white",
           "landcolor": "#E5ECF6",
           "showlakes": true,
           "showland": true,
           "subunitcolor": "white"
          },
          "hoverlabel": {
           "align": "left"
          },
          "hovermode": "closest",
          "mapbox": {
           "style": "light"
          },
          "paper_bgcolor": "white",
          "plot_bgcolor": "#E5ECF6",
          "polar": {
           "angularaxis": {
            "gridcolor": "white",
            "linecolor": "white",
            "ticks": ""
           },
           "bgcolor": "#E5ECF6",
           "radialaxis": {
            "gridcolor": "white",
            "linecolor": "white",
            "ticks": ""
           }
          },
          "scene": {
           "xaxis": {
            "backgroundcolor": "#E5ECF6",
            "gridcolor": "white",
            "gridwidth": 2,
            "linecolor": "white",
            "showbackground": true,
            "ticks": "",
            "zerolinecolor": "white"
           },
           "yaxis": {
            "backgroundcolor": "#E5ECF6",
            "gridcolor": "white",
            "gridwidth": 2,
            "linecolor": "white",
            "showbackground": true,
            "ticks": "",
            "zerolinecolor": "white"
           },
           "zaxis": {
            "backgroundcolor": "#E5ECF6",
            "gridcolor": "white",
            "gridwidth": 2,
            "linecolor": "white",
            "showbackground": true,
            "ticks": "",
            "zerolinecolor": "white"
           }
          },
          "shapedefaults": {
           "line": {
            "color": "#2a3f5f"
           }
          },
          "ternary": {
           "aaxis": {
            "gridcolor": "white",
            "linecolor": "white",
            "ticks": ""
           },
           "baxis": {
            "gridcolor": "white",
            "linecolor": "white",
            "ticks": ""
           },
           "bgcolor": "#E5ECF6",
           "caxis": {
            "gridcolor": "white",
            "linecolor": "white",
            "ticks": ""
           }
          },
          "title": {
           "x": 0.05
          },
          "xaxis": {
           "automargin": true,
           "gridcolor": "white",
           "linecolor": "white",
           "ticks": "",
           "title": {
            "standoff": 15
           },
           "zerolinecolor": "white",
           "zerolinewidth": 2
          },
          "yaxis": {
           "automargin": true,
           "gridcolor": "white",
           "linecolor": "white",
           "ticks": "",
           "title": {
            "standoff": 15
           },
           "zerolinecolor": "white",
           "zerolinewidth": 2
          }
         }
        },
        "title": {
         "text": "T_r(r)"
        },
        "xaxis": {
         "anchor": "y",
         "domain": [
          0,
          1
         ],
         "title": {
          "text": "r"
         }
        },
        "yaxis": {
         "anchor": "x",
         "domain": [
          0,
          1
         ],
         "title": {
          "text": "T"
         }
        }
       }
      }
     },
     "metadata": {},
     "output_type": "display_data"
    },
    {
     "data": {
      "application/vnd.plotly.v1+json": {
       "config": {
        "plotlyServerURL": "https://plot.ly"
       },
       "data": [
        {
         "hovertemplate": "label=Newton 1<br>T=%{x}<br>k(T)=%{y}<extra></extra>",
         "legendgroup": "Newton 1",
         "line": {
          "color": "#636efa",
          "dash": "solid"
         },
         "marker": {
          "symbol": "circle"
         },
         "mode": "lines+markers",
         "name": "Newton 1",
         "orientation": "v",
         "showlegend": true,
         "type": "scatter",
         "x": {
          "bdata": "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",
          "dtype": "f8"
         },
         "xaxis": "x",
         "y": {
          "bdata": "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",
          "dtype": "f8"
         },
         "yaxis": "y"
        }
       ],
       "layout": {
        "legend": {
         "title": {
          "text": "label"
         },
         "tracegroupgap": 0
        },
        "template": {
         "data": {
          "bar": [
           {
            "error_x": {
             "color": "#2a3f5f"
            },
            "error_y": {
             "color": "#2a3f5f"
            },
            "marker": {
             "line": {
              "color": "#E5ECF6",
              "width": 0.5
             },
             "pattern": {
              "fillmode": "overlay",
              "size": 10,
              "solidity": 0.2
             }
            },
            "type": "bar"
           }
          ],
          "barpolar": [
           {
            "marker": {
             "line": {
              "color": "#E5ECF6",
              "width": 0.5
             },
             "pattern": {
              "fillmode": "overlay",
              "size": 10,
              "solidity": 0.2
             }
            },
            "type": "barpolar"
           }
          ],
          "carpet": [
           {
            "aaxis": {
             "endlinecolor": "#2a3f5f",
             "gridcolor": "white",
             "linecolor": "white",
             "minorgridcolor": "white",
             "startlinecolor": "#2a3f5f"
            },
            "baxis": {
             "endlinecolor": "#2a3f5f",
             "gridcolor": "white",
             "linecolor": "white",
             "minorgridcolor": "white",
             "startlinecolor": "#2a3f5f"
            },
            "type": "carpet"
           }
          ],
          "choropleth": [
           {
            "colorbar": {
             "outlinewidth": 0,
             "ticks": ""
            },
            "type": "choropleth"
           }
          ],
          "contour": [
           {
            "colorbar": {
             "outlinewidth": 0,
             "ticks": ""
            },
            "colorscale": [
             [
              0,
              "#0d0887"
             ],
             [
              0.1111111111111111,
              "#46039f"
             ],
             [
              0.2222222222222222,
              "#7201a8"
             ],
             [
              0.3333333333333333,
              "#9c179e"
             ],
             [
              0.4444444444444444,
              "#bd3786"
             ],
             [
              0.5555555555555556,
              "#d8576b"
             ],
             [
              0.6666666666666666,
              "#ed7953"
             ],
             [
              0.7777777777777778,
              "#fb9f3a"
             ],
             [
              0.8888888888888888,
              "#fdca26"
             ],
             [
              1,
              "#f0f921"
             ]
            ],
            "type": "contour"
           }
          ],
          "contourcarpet": [
           {
            "colorbar": {
             "outlinewidth": 0,
             "ticks": ""
            },
            "type": "contourcarpet"
           }
          ],
          "heatmap": [
           {
            "colorbar": {
             "outlinewidth": 0,
             "ticks": ""
            },
            "colorscale": [
             [
              0,
              "#0d0887"
             ],
             [
              0.1111111111111111,
              "#46039f"
             ],
             [
              0.2222222222222222,
              "#7201a8"
             ],
             [
              0.3333333333333333,
              "#9c179e"
             ],
             [
              0.4444444444444444,
              "#bd3786"
             ],
             [
              0.5555555555555556,
              "#d8576b"
             ],
             [
              0.6666666666666666,
              "#ed7953"
             ],
             [
              0.7777777777777778,
              "#fb9f3a"
             ],
             [
              0.8888888888888888,
              "#fdca26"
             ],
             [
              1,
              "#f0f921"
             ]
            ],
            "type": "heatmap"
           }
          ],
          "histogram": [
           {
            "marker": {
             "pattern": {
              "fillmode": "overlay",
              "size": 10,
              "solidity": 0.2
             }
            },
            "type": "histogram"
           }
          ],
          "histogram2d": [
           {
            "colorbar": {
             "outlinewidth": 0,
             "ticks": ""
            },
            "colorscale": [
             [
              0,
              "#0d0887"
             ],
             [
              0.1111111111111111,
              "#46039f"
             ],
             [
              0.2222222222222222,
              "#7201a8"
             ],
             [
              0.3333333333333333,
              "#9c179e"
             ],
             [
              0.4444444444444444,
              "#bd3786"
             ],
             [
              0.5555555555555556,
              "#d8576b"
             ],
             [
              0.6666666666666666,
              "#ed7953"
             ],
             [
              0.7777777777777778,
              "#fb9f3a"
             ],
             [
              0.8888888888888888,
              "#fdca26"
             ],
             [
              1,
              "#f0f921"
             ]
            ],
            "type": "histogram2d"
           }
          ],
          "histogram2dcontour": [
           {
            "colorbar": {
             "outlinewidth": 0,
             "ticks": ""
            },
            "colorscale": [
             [
              0,
              "#0d0887"
             ],
             [
              0.1111111111111111,
              "#46039f"
             ],
             [
              0.2222222222222222,
              "#7201a8"
             ],
             [
              0.3333333333333333,
              "#9c179e"
             ],
             [
              0.4444444444444444,
              "#bd3786"
             ],
             [
              0.5555555555555556,
              "#d8576b"
             ],
             [
              0.6666666666666666,
              "#ed7953"
             ],
             [
              0.7777777777777778,
              "#fb9f3a"
             ],
             [
              0.8888888888888888,
              "#fdca26"
             ],
             [
              1,
              "#f0f921"
             ]
            ],
            "type": "histogram2dcontour"
           }
          ],
          "mesh3d": [
           {
            "colorbar": {
             "outlinewidth": 0,
             "ticks": ""
            },
            "type": "mesh3d"
           }
          ],
          "parcoords": [
           {
            "line": {
             "colorbar": {
              "outlinewidth": 0,
              "ticks": ""
             }
            },
            "type": "parcoords"
           }
          ],
          "pie": [
           {
            "automargin": true,
            "type": "pie"
           }
          ],
          "scatter": [
           {
            "fillpattern": {
             "fillmode": "overlay",
             "size": 10,
             "solidity": 0.2
            },
            "type": "scatter"
           }
          ],
          "scatter3d": [
           {
            "line": {
             "colorbar": {
              "outlinewidth": 0,
              "ticks": ""
             }
            },
            "marker": {
             "colorbar": {
              "outlinewidth": 0,
              "ticks": ""
             }
            },
            "type": "scatter3d"
           }
          ],
          "scattercarpet": [
           {
            "marker": {
             "colorbar": {
              "outlinewidth": 0,
              "ticks": ""
             }
            },
            "type": "scattercarpet"
           }
          ],
          "scattergeo": [
           {
            "marker": {
             "colorbar": {
              "outlinewidth": 0,
              "ticks": ""
             }
            },
            "type": "scattergeo"
           }
          ],
          "scattergl": [
           {
            "marker": {
             "colorbar": {
              "outlinewidth": 0,
              "ticks": ""
             }
            },
            "type": "scattergl"
           }
          ],
          "scattermap": [
           {
            "marker": {
             "colorbar": {
              "outlinewidth": 0,
              "ticks": ""
             }
            },
            "type": "scattermap"
           }
          ],
          "scattermapbox": [
           {
            "marker": {
             "colorbar": {
              "outlinewidth": 0,
              "ticks": ""
             }
            },
            "type": "scattermapbox"
           }
          ],
          "scatterpolar": [
           {
            "marker": {
             "colorbar": {
              "outlinewidth": 0,
              "ticks": ""
             }
            },
            "type": "scatterpolar"
           }
          ],
          "scatterpolargl": [
           {
            "marker": {
             "colorbar": {
              "outlinewidth": 0,
              "ticks": ""
             }
            },
            "type": "scatterpolargl"
           }
          ],
          "scatterternary": [
           {
            "marker": {
             "colorbar": {
              "outlinewidth": 0,
              "ticks": ""
             }
            },
            "type": "scatterternary"
           }
          ],
          "surface": [
           {
            "colorbar": {
             "outlinewidth": 0,
             "ticks": ""
            },
            "colorscale": [
             [
              0,
              "#0d0887"
             ],
             [
              0.1111111111111111,
              "#46039f"
             ],
             [
              0.2222222222222222,
              "#7201a8"
             ],
             [
              0.3333333333333333,
              "#9c179e"
             ],
             [
              0.4444444444444444,
              "#bd3786"
             ],
             [
              0.5555555555555556,
              "#d8576b"
             ],
             [
              0.6666666666666666,
              "#ed7953"
             ],
             [
              0.7777777777777778,
              "#fb9f3a"
             ],
             [
              0.8888888888888888,
              "#fdca26"
             ],
             [
              1,
              "#f0f921"
             ]
            ],
            "type": "surface"
           }
          ],
          "table": [
           {
            "cells": {
             "fill": {
              "color": "#EBF0F8"
             },
             "line": {
              "color": "white"
             }
            },
            "header": {
             "fill": {
              "color": "#C8D4E3"
             },
             "line": {
              "color": "white"
             }
            },
            "type": "table"
           }
          ]
         },
         "layout": {
          "annotationdefaults": {
           "arrowcolor": "#2a3f5f",
           "arrowhead": 0,
           "arrowwidth": 1
          },
          "autotypenumbers": "strict",
          "coloraxis": {
           "colorbar": {
            "outlinewidth": 0,
            "ticks": ""
           }
          },
          "colorscale": {
           "diverging": [
            [
             0,
             "#8e0152"
            ],
            [
             0.1,
             "#c51b7d"
            ],
            [
             0.2,
             "#de77ae"
            ],
            [
             0.3,
             "#f1b6da"
            ],
            [
             0.4,
             "#fde0ef"
            ],
            [
             0.5,
             "#f7f7f7"
            ],
            [
             0.6,
             "#e6f5d0"
            ],
            [
             0.7,
             "#b8e186"
            ],
            [
             0.8,
             "#7fbc41"
            ],
            [
             0.9,
             "#4d9221"
            ],
            [
             1,
             "#276419"
            ]
           ],
           "sequential": [
            [
             0,
             "#0d0887"
            ],
            [
             0.1111111111111111,
             "#46039f"
            ],
            [
             0.2222222222222222,
             "#7201a8"
            ],
            [
             0.3333333333333333,
             "#9c179e"
            ],
            [
             0.4444444444444444,
             "#bd3786"
            ],
            [
             0.5555555555555556,
             "#d8576b"
            ],
            [
             0.6666666666666666,
             "#ed7953"
            ],
            [
             0.7777777777777778,
             "#fb9f3a"
            ],
            [
             0.8888888888888888,
             "#fdca26"
            ],
            [
             1,
             "#f0f921"
            ]
           ],
           "sequentialminus": [
            [
             0,
             "#0d0887"
            ],
            [
             0.1111111111111111,
             "#46039f"
            ],
            [
             0.2222222222222222,
             "#7201a8"
            ],
            [
             0.3333333333333333,
             "#9c179e"
            ],
            [
             0.4444444444444444,
             "#bd3786"
            ],
            [
             0.5555555555555556,
             "#d8576b"
            ],
            [
             0.6666666666666666,
             "#ed7953"
            ],
            [
             0.7777777777777778,
             "#fb9f3a"
            ],
            [
             0.8888888888888888,
             "#fdca26"
            ],
            [
             1,
             "#f0f921"
            ]
           ]
          },
          "colorway": [
           "#636efa",
           "#EF553B",
           "#00cc96",
           "#ab63fa",
           "#FFA15A",
           "#19d3f3",
           "#FF6692",
           "#B6E880",
           "#FF97FF",
           "#FECB52"
          ],
          "font": {
           "color": "#2a3f5f"
          },
          "geo": {
           "bgcolor": "white",
           "lakecolor": "white",
           "landcolor": "#E5ECF6",
           "showlakes": true,
           "showland": true,
           "subunitcolor": "white"
          },
          "hoverlabel": {
           "align": "left"
          },
          "hovermode": "closest",
          "mapbox": {
           "style": "light"
          },
          "paper_bgcolor": "white",
          "plot_bgcolor": "#E5ECF6",
          "polar": {
           "angularaxis": {
            "gridcolor": "white",
            "linecolor": "white",
            "ticks": ""
           },
           "bgcolor": "#E5ECF6",
           "radialaxis": {
            "gridcolor": "white",
            "linecolor": "white",
            "ticks": ""
           }
          },
          "scene": {
           "xaxis": {
            "backgroundcolor": "#E5ECF6",
            "gridcolor": "white",
            "gridwidth": 2,
            "linecolor": "white",
            "showbackground": true,
            "ticks": "",
            "zerolinecolor": "white"
           },
           "yaxis": {
            "backgroundcolor": "#E5ECF6",
            "gridcolor": "white",
            "gridwidth": 2,
            "linecolor": "white",
            "showbackground": true,
            "ticks": "",
            "zerolinecolor": "white"
           },
           "zaxis": {
            "backgroundcolor": "#E5ECF6",
            "gridcolor": "white",
            "gridwidth": 2,
            "linecolor": "white",
            "showbackground": true,
            "ticks": "",
            "zerolinecolor": "white"
           }
          },
          "shapedefaults": {
           "line": {
            "color": "#2a3f5f"
           }
          },
          "ternary": {
           "aaxis": {
            "gridcolor": "white",
            "linecolor": "white",
            "ticks": ""
           },
           "baxis": {
            "gridcolor": "white",
            "linecolor": "white",
            "ticks": ""
           },
           "bgcolor": "#E5ECF6",
           "caxis": {
            "gridcolor": "white",
            "linecolor": "white",
            "ticks": ""
           }
          },
          "title": {
           "x": 0.05
          },
          "xaxis": {
           "automargin": true,
           "gridcolor": "white",
           "linecolor": "white",
           "ticks": "",
           "title": {
            "standoff": 15
           },
           "zerolinecolor": "white",
           "zerolinewidth": 2
          },
          "yaxis": {
           "automargin": true,
           "gridcolor": "white",
           "linecolor": "white",
           "ticks": "",
           "title": {
            "standoff": 15
           },
           "zerolinecolor": "white",
           "zerolinewidth": 2
          }
         }
        },
        "title": {
         "text": "k(T) v2"
        },
        "xaxis": {
         "anchor": "y",
         "domain": [
          0,
          1
         ],
         "title": {
          "text": "T"
         }
        },
        "yaxis": {
         "anchor": "x",
         "domain": [
          0,
          1
         ],
         "title": {
          "text": "k(T)"
         }
        }
       }
      }
     },
     "metadata": {},
     "output_type": "display_data"
    }
   ],
   "source": [
    "import plotly.express as px\n",
    "import pandas as pd\n",
    "\n",
    "vkT = 2\n",
    "h = 0.00125\n",
    "\n",
    "def draw_Tr():\n",
    "    rvals = [i * h for i in range(int(R // h))]\n",
    "    Tvals = [T_r(r) for r in rvals]\n",
    "\n",
    "    df1 = pd.DataFrame({\"r\": rvals, \"T\": Tvals, \"label\": [\"T_r(r)\"] * len(rvals) })\n",
    "    fig = px.line(df1, x=\"r\", y=\"T\", color=\"label\", title=\"T_r(r)\", markers = True)\n",
    "    fig.show()\n",
    "\n",
    "draw_Tr()\n",
    "\n",
    "def draw_kTr(variantkT=vkT):\n",
    "    k = getkFunc(variantkT)\n",
    "    rvals = [i * h for i in range(int(R // h))]\n",
    "    Tvals = [T_r(r) for r in rvals]\n",
    "    kvals = [k(t) for t in Tvals]\n",
    "\n",
    "    df1 = pd.DataFrame({\"T\": Tvals, \"k(T)\": kvals, \"label\": [f\"Newton 1\"] * len(Tvals) })\n",
    "    df = df1\n",
    "\n",
    "    fig = px.line(df, x=\"T\", y=\"k(T)\", color=\"label\", title=f\"k(T) v{variantkT}\", markers = True)\n",
    "    fig.show()\n",
    "\n",
    "draw_kTr()"
   ]
  }
 ],
 "metadata": {
  "kernelspec": {
   "display_name": ".venv",
   "language": "python",
   "name": "python3"
  },
  "language_info": {
   "codemirror_mode": {
    "name": "ipython",
    "version": 3
   },
   "file_extension": ".py",
   "mimetype": "text/x-python",
   "name": "python",
   "nbconvert_exporter": "python",
   "pygments_lexer": "ipython3",
   "version": "3.12.7"
  }
 },
 "nbformat": 4,
 "nbformat_minor": 2
}
