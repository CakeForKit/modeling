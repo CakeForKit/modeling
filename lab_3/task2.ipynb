{
 "cells": [
  {
   "cell_type": "markdown",
   "id": "465132fb",
   "metadata": {},
   "source": [
    "### T(z), Up(z)"
   ]
  },
  {
   "cell_type": "code",
   "execution_count": 109,
   "id": "dd03b4a7",
   "metadata": {},
   "outputs": [],
   "source": [
    "c = 3 * 1e10    # Скорость света\n",
    "R = 0.35        # Радиус цилиндра\n",
    "\n",
    "# температурное поле в цилиндре\n",
    "def T_z(z):\n",
    "    Tw, To, p = 2000, 1e4, 4\n",
    "    return (Tw - To) * (z ** p) + To\n",
    "\n",
    "# функция Планка\n",
    "def up_z(z):\n",
    "    return (3.084 * 1e-4) / (np.exp(4.799 * 1e4 / T_z(z)) - 1)"
   ]
  },
  {
   "cell_type": "markdown",
   "id": "d99ef0db",
   "metadata": {},
   "source": [
    "#### k(z) = k(T(z)) "
   ]
  },
  {
   "cell_type": "code",
   "execution_count": 110,
   "id": "0271a3c4",
   "metadata": {},
   "outputs": [],
   "source": [
    "def read_data_kT(variant=1):\n",
    "    data_tab = []\n",
    "    with open('data/kT.txt') as file:\n",
    "        line = file.readline()\n",
    "        while line != '':\n",
    "            line = line.split()\n",
    "            if variant == 1:\n",
    "                data_tab.append([int(line[1]), float(line[2])])\n",
    "            else:\n",
    "                data_tab.append([int(line[1]), float(line[3])])\n",
    "\n",
    "            line = file.readline()\n",
    "\n",
    "    return data_tab\n",
    "    \n",
    "import numpy as np\n",
    "\n",
    "def getk_zFunc(variantkT):\n",
    "    data_kT = read_data_kT(variantkT)\n",
    "    Tvals = [np.log(data_kT[i][0]) for i in range(len(data_kT))]\n",
    "    kvals = [np.log(data_kT[i][1]) for i in range(len(data_kT))]\n",
    "    def k_z(z):\n",
    "        T = T_z(z)\n",
    "        return np.exp(np.interp([np.log(T)], Tvals, kvals)[0])\n",
    "    return k_z\n"
   ]
  },
  {
   "cell_type": "markdown",
   "id": "bdd411d6",
   "metadata": {},
   "source": [
    "#### Параметры разностной схемы"
   ]
  },
  {
   "cell_type": "code",
   "execution_count": 123,
   "id": "14578860",
   "metadata": {},
   "outputs": [],
   "source": [
    "def getStartParams(h, k_z, z0):\n",
    "    M0 = 1 / (R**2 * (k_z(z0 + h) + k_z(z0)))\n",
    "    K0 = -M0\n",
    "    Q0 = 0\n",
    "    epsilon1 = -K0 / M0\n",
    "    eta1 = Q0 / M0\n",
    "    print(f'M0 = {M0}, K0 = {K0}')\n",
    "    print(f'epsilon1 = {epsilon1}, eta1 = {eta1}')\n",
    "    return epsilon1, eta1\n",
    "\n",
    "def vn(zn, h):\n",
    "    return zn * h\n",
    "\n",
    "def kappa_n_p_half(zn, znp1, k_z):\n",
    "    return 2 / (k_z(znp1) + k_z(zn))\n",
    "\n",
    "def kappa_n_m_half(zn, znm1, k_z):\n",
    "    return 2 / (k_z(znm1) + k_z(zn))\n",
    "\n",
    "def An(zn, h, k_z):\n",
    "    return ((zn - h / 2) * kappa_n_m_half(zn, zn - h, k_z)) / (R**2 * h)\n",
    "\n",
    "def Dn(zn, h, k_z):\n",
    "    return ((zn + h / 2) * kappa_n_p_half(zn, zn + h, k_z)) / (R**2 * h)\n",
    "\n",
    "def Bn(zn, h, k_z):\n",
    "    return An(zn, h, k_z) + Dn(zn, h, k_z) - 3 * k_z(zn) * vn(zn, h)\n",
    "\n",
    "def Fn(zn, h, k_z):\n",
    "    return - 3 * k_z(zn) * up_z(zn) * vn(zn, h)\n",
    "\n",
    "def getyN(epsilonN, etaN, h, k_z):\n",
    "    # KN = - (2 - h) / (R**2 * h * ( k_z(1-h) + k_z(1) ))\n",
    "    kappa = 2 / (k_z(1 - h) + k_z(1))\n",
    "    MN = - (1 - h / 2) * kappa / (R**2 * h)\n",
    "    KN = -MN + 3 * 0.39 / R\n",
    "    QN = 0\n",
    "    yN = (QN - KN * etaN) / (KN * epsilonN + MN)\n",
    "    print(f'epsilonN={epsilonN}, etaN={etaN}')\n",
    "    print(f'kappa={kappa}, KN={KN}, MN={MN}')\n",
    "    return yN"
   ]
  },
  {
   "cell_type": "markdown",
   "id": "6ee5a409",
   "metadata": {},
   "source": [
    "#### Разностная схема - прогонка"
   ]
  },
  {
   "cell_type": "code",
   "execution_count": null,
   "id": "2f741f70",
   "metadata": {},
   "outputs": [],
   "source": [
    "def epsilon_eta_ip1(zi, epsiloni, etai, h, k_z, i):\n",
    "    Ai = An(zi, h, k_z)\n",
    "    Bi = Bn(zi, h, k_z)\n",
    "    Di = Dn(zi, h, k_z)\n",
    "    Fi = Fn(zi, h, k_z)\n",
    "    epsilon_ip1 = Di / (Bi - Ai * epsiloni)\n",
    "    eta_ip1 = (Ai * etai + Fi) / (Bi - Ai * epsiloni)\n",
    "    print(f'i={i}, zi={zi}: ', end='')\n",
    "    # print(f'Ai={Ai}, Bi={Bi}, Di={Di}, Fi={Fi} ', end='')\n",
    "    print(f'epsilon={epsilon_ip1}, eta={eta_ip1}')\n",
    "    return (epsilon_ip1, eta_ip1)\n",
    "\n",
    "def progonka(k_z, N=100):\n",
    "    N -= 1\n",
    "    z0, zN = 0, 1\n",
    "    h = (zN - z0) / N\n",
    "    print(f'h = {h}')\n",
    "    epsilon1, eta1 = getStartParams(h, k_z, z0)\n",
    "    zvals = [z0]\n",
    "    epsilonVals, etaVals = [float(epsilon1)], [float(eta1)]\n",
    "\n",
    "    for i in range(N):\n",
    "        epsilonNext, etaNext = epsilon_eta_ip1(zvals[-1], epsilonVals[-1], etaVals[-1], h, k_z, i)\n",
    "        epsilonVals.append(float(epsilonNext))\n",
    "        etaVals.append(float(etaNext))\n",
    "        zvals.append(zvals[-1] + h)\n",
    "\n",
    "    # print(f'epsilonVals={epsilonVals}')\n",
    "    # print(f'etaVals={etaVals}')\n",
    "\n",
    "    yN = getyN(epsilonVals[-1], etaVals[-1], h, k_z)\n",
    "    print(f'yN = {yN}')\n",
    "    yvals = [0] * (N + 1) \n",
    "    yvals[N] = yN \n",
    "    for i in range(N - 1, -1, -1):\n",
    "        yi = epsilonVals[i + 1] * yvals[i + 1] + etaVals[i + 1]\n",
    "        yvals[i] = yi\n",
    "    \n",
    "    return yvals\n",
    "\n",
    "def getFvals(yvals, h, k_z):\n",
    "    Fvals = [0]\n",
    "    for i in range(1, len(yvals) - 1):\n",
    "        Fvals.append((yvals[i + 1] - yvals[i - 1]) / (2 * h))\n"
   ]
  },
  {
   "cell_type": "code",
   "execution_count": 160,
   "id": "aab35982",
   "metadata": {},
   "outputs": [
    {
     "name": "stdout",
     "output_type": "stream",
     "text": [
      "h = 0.010101010101010102\n",
      "M0 = 3.982080686883293, K0 = -3.982080686883293\n",
      "epsilon1 = 1.0, eta1 = 0.0\n",
      "i=0, zi=0: epsilon=1.0, eta=-0.0\n",
      "i=1, zi=0.010101010101010102: epsilon=1.0000262636286334, eta=-6.727944337206678e-11\n",
      "i=2, zi=0.020202020202020204: epsilon=1.0000472758796697, eta=-1.211064027641202e-10\n",
      "i=3, zi=0.030303030303030304: epsilon=1.000067539378684, eta=-1.730150706458814e-10\n",
      "i=4, zi=0.04040404040404041: epsilon=1.0000875545867, eta=-2.2428710513663378e-10\n",
      "i=5, zi=0.05050505050505051: epsilon=1.0001074578742868, eta=-2.752711903975484e-10\n",
      "i=6, zi=0.060606060606060615: epsilon=1.000127301300409, eta=-3.26099663851434e-10\n",
      "i=7, zi=0.07070707070707072: epsilon=1.0001471085050215, eta=-3.768316149089382e-10\n",
      "i=8, zi=0.08080808080808081: epsilon=1.0001668910923218, eta=-4.2749477303380224e-10\n",
      "i=9, zi=0.09090909090909091: epsilon=1.00018665461682, eta=-4.781007618781866e-10\n",
      "i=10, zi=0.10101010101010101: epsilon=1.000206401103748, eta=-5.286514762025127e-10\n",
      "i=11, zi=0.1111111111111111: epsilon=1.000226130213456, eta=-5.791419862434296e-10\n",
      "i=12, zi=0.1212121212121212: epsilon=1.0002458398093586, eta=-6.295619157478506e-10\n",
      "i=13, zi=0.1313131313131313: epsilon=1.0002655262389741, eta=-6.798960872080228e-10\n",
      "i=14, zi=0.1414141414141414: epsilon=1.0002851844669371, eta=-7.301247907433628e-10\n",
      "i=15, zi=0.15151515151515152: epsilon=1.000304808127306, eta=-7.80223849916883e-10\n",
      "i=16, zi=0.16161616161616163: epsilon=1.0003243895299976, eta=-8.301645746591305e-10\n",
      "i=17, zi=0.17171717171717174: epsilon=1.0003439196404174, eta=-8.799136512409684e-10\n",
      "i=18, zi=0.18181818181818185: epsilon=1.0003633880432852, eta=-9.294329987141945e-10\n",
      "i=19, zi=0.19191919191919196: epsilon=1.0003827828973346, eta=-9.786796103227587e-10\n",
      "i=20, zi=0.20202020202020207: epsilon=1.0004020908851639, eta=-1.027605392393409e-09\n",
      "i=21, zi=0.21212121212121218: epsilon=1.000421297161154, eta=-1.0761570098534075e-09\n",
      "i=22, zi=0.2222222222222223: epsilon=1.000440385299558, eta=-1.1242757456219142e-09\n",
      "i=23, zi=0.2323232323232324: epsilon=1.0004593372444102, eta=-1.1718973800541915e-09\n",
      "i=24, zi=0.24242424242424251: epsilon=1.0004781332626151, eta=-1.2189520960359163e-09\n",
      "i=25, zi=0.2525252525252526: epsilon=1.000496751901436, eta=-1.2653644150270684e-09\n",
      "i=26, zi=0.2626262626262627: epsilon=1.0005151699515042, eta=-1.3110531692200768e-09\n",
      "i=27, zi=0.2727272727272728: epsilon=1.000533362416446, eta=-1.355931514928402e-09\n",
      "i=28, zi=0.28282828282828293: epsilon=1.0005513024902133, eta=-1.3999069923085143e-09\n",
      "i=29, zi=0.29292929292929304: epsilon=1.000568961543206, eta=-1.4428816365041535e-09\n",
      "i=30, zi=0.30303030303030315: epsilon=1.0005863091183056, eta=-1.4847521452593737e-09\n",
      "i=31, zi=0.31313131313131326: epsilon=1.0006033129379552, eta=-1.5254101079539773e-09\n",
      "i=32, zi=0.32323232323232337: epsilon=1.000619938923448, eta=-1.56474230085259e-09\n",
      "i=33, zi=0.3333333333333335: epsilon=1.0006361512276094, eta=-1.6026310531099338e-09\n",
      "i=34, zi=0.3434343434343436: epsilon=1.0006519122820694, eta=-1.6389546877243472e-09\n",
      "i=35, zi=0.3535353535353537: epsilon=1.0006671828603317, eta=-1.6735880411650876e-09\n",
      "i=36, zi=0.3636363636363638: epsilon=1.0006819221578445, eta=-1.7064030648037505e-09\n",
      "i=37, zi=0.3737373737373739: epsilon=1.000696087890254, eta=-1.7372695105443723e-09\n",
      "i=38, zi=0.38383838383838403: epsilon=1.0007096364110015, eta=-1.7660557021610673e-09\n",
      "i=39, zi=0.39393939393939414: epsilon=1.000722522849361, eta=-1.792629392808866e-09\n",
      "i=40, zi=0.40404040404040426: epsilon=1.0007347012699548, eta=-1.8168587079676209e-09\n",
      "i=41, zi=0.41414141414141437: epsilon=1.0007461248546916, eta=-1.8386131717094738e-09\n",
      "i=42, zi=0.4242424242424245: epsilon=1.000756746107953, eta=-1.8577648126495117e-09\n",
      "i=43, zi=0.4343434343434346: epsilon=1.0007665170857125, eta=-1.8741893442540055e-09\n",
      "i=44, zi=0.4444444444444447: epsilon=1.0007753896491054, eta=-1.8877674123538026e-09\n",
      "i=45, zi=0.4545454545454548: epsilon=1.0007833157427592, eta=-1.8983859007600777e-09\n",
      "i=46, zi=0.4646464646464649: epsilon=1.000790247697972, eta=-1.9059392838312266e-09\n",
      "i=47, zi=0.47474747474747503: epsilon=1.0007961385605548, eta=-1.910331012725571e-09\n",
      "i=48, zi=0.48484848484848514: epsilon=1.0008009424428592, eta=-1.9114749199347034e-09\n",
      "i=49, zi=0.49494949494949525: epsilon=1.0008046148991776, eta=-1.909296624575247e-09\n",
      "i=50, zi=0.5050505050505053: epsilon=1.0008071133233398, eta=-1.9037349188784717e-09\n",
      "i=51, zi=0.5151515151515154: epsilon=1.0008083973669302, eta=-1.8947431144222147e-09\n",
      "i=52, zi=0.5252525252525254: epsilon=1.0008084293761195, eta=-1.8822903249688705e-09\n",
      "i=53, zi=0.5353535353535355: epsilon=1.0008071748446474, eta=-1.8663626613857467e-09\n",
      "i=54, zi=0.5454545454545455: epsilon=1.0008046028800088, eta=-1.8469643131122912e-09\n",
      "i=55, zi=0.5555555555555556: epsilon=1.0008006866793921, eta=-1.82411849008927e-09\n",
      "i=56, zi=0.5656565656565656: epsilon=1.0007954040113924, eta=-1.7978681990652995e-09\n",
      "i=57, zi=0.5757575757575757: epsilon=1.0007887376989995, eta=-1.7682768288307394e-09\n",
      "i=58, zi=0.5858585858585857: epsilon=1.0007806763353309, eta=-1.7354290460056455e-09\n",
      "i=59, zi=0.5959595959595958: epsilon=1.0007712158540993, eta=-1.6994333212383918e-09\n",
      "i=60, zi=0.6060606060606059: epsilon=1.0007603569817622, eta=-1.660415073782217e-09\n",
      "i=61, zi=0.6161616161616159: epsilon=1.0007481058881482, eta=-1.6185170216075247e-09\n",
      "i=62, zi=0.626262626262626: epsilon=1.000734477548085, eta=-1.5739049348649453e-09\n",
      "i=63, zi=0.636363636363636: epsilon=1.000719494595776, eta=-1.5267633096797532e-09\n",
      "i=64, zi=0.6464646464646461: epsilon=1.0007031876486678, eta=-1.477294120793995e-09\n",
      "i=65, zi=0.6565656565656561: epsilon=1.0006855955796785, eta=-1.425715297538561e-09\n",
      "i=66, zi=0.6666666666666662: epsilon=1.0006667657298198, eta=-1.372258939176034e-09\n",
      "i=67, zi=0.6767676767676762: epsilon=1.0006467540532538, eta=-1.3171692935454517e-09\n",
      "i=68, zi=0.6868686868686863: epsilon=1.0006256251869494, eta=-1.2607005309003051e-09\n",
      "i=69, zi=0.6969696969696964: epsilon=1.0006034524374008, eta=-1.203114352553153e-09\n",
      "i=70, zi=0.7070707070707064: epsilon=1.0005803187105295, eta=-1.1446795191244063e-09\n",
      "i=71, zi=0.7171717171717165: epsilon=1.0005563142564504, eta=-1.0856651139924848e-09\n",
      "i=72, zi=0.7272727272727265: epsilon=1.000531536296579, eta=-1.0263380212545657e-09\n",
      "i=73, zi=0.7373737373737366: epsilon=1.0005060907621726, eta=-9.669645631662141e-10\n",
      "i=74, zi=0.7474747474747466: epsilon=1.0004800907239517, eta=-9.078059873889925e-10\n",
      "i=75, zi=0.7575757575757567: epsilon=1.0004536557561814, eta=-8.491162155865602e-10\n",
      "i=76, zi=0.7676767676767667: epsilon=1.000426911190961, eta=-7.911398264555258e-10\n",
      "i=77, zi=0.7777777777777768: epsilon=1.0003999849761214, eta=-7.341061205715079e-10\n",
      "i=78, zi=0.7878787878787868: epsilon=1.0003730094537107, eta=-6.782329486117548e-10\n",
      "i=79, zi=0.7979797979797969: epsilon=1.0003461242793381, eta=-6.237326362566316e-10\n",
      "i=80, zi=0.808080808080807: epsilon=1.0003194703585154, eta=-5.708020709146201e-10\n",
      "i=81, zi=0.818181818181817: epsilon=1.0002931868940794, eta=-5.196193892558577e-10\n",
      "i=82, zi=0.8282828282828271: epsilon=1.0002674121534996, eta=-4.703476885321199e-10\n",
      "i=83, zi=0.8383838383838371: epsilon=1.0002422803212971, eta=-4.23132065925599e-10\n",
      "i=84, zi=0.8484848484848472: epsilon=1.0002179231973392, eta=-3.7810548044890154e-10\n",
      "i=85, zi=0.8585858585858572: epsilon=1.0001944696203948, eta=-3.353904994129508e-10\n",
      "i=86, zi=0.8686868686868673: epsilon=1.0001720401282752, eta=-2.9509298331840594e-10\n",
      "i=87, zi=0.8787878787878773: epsilon=1.0001507462259476, eta=-2.573037548452928e-10\n",
      "i=88, zi=0.8888888888888874: epsilon=1.0001306949021946, eta=-2.221089009652761e-10\n",
      "i=89, zi=0.8989898989898975: epsilon=1.0001119751209644, eta=-1.8956893201377132e-10\n",
      "i=90, zi=0.9090909090909075: epsilon=1.0000946573444451, eta=-1.5972023965089054e-10\n",
      "i=91, zi=0.9191919191919176: epsilon=1.0000788041940916, eta=-1.325944377296713e-10\n",
      "i=92, zi=0.9292929292929276: epsilon=1.000064462252681, eta=-1.0820532819760445e-10\n",
      "i=93, zi=0.9393939393939377: epsilon=1.000051661490371, eta=-8.654838498030277e-11\n",
      "i=94, zi=0.9494949494949477: epsilon=1.0000404139124803, eta=-6.759847574259847e-11\n",
      "i=95, zi=0.9595959595959578: epsilon=1.0000307109187674, eta=-5.130506786335975e-11\n",
      "i=96, zi=0.9696969696969678: epsilon=1.000022522529305, eta=-3.7590249932169676e-11\n",
      "i=97, zi=0.9797979797979779: epsilon=1.0000157980032873, eta=-2.6348824824927484e-11\n",
      "i=98, zi=0.989898989898988: epsilon=1.0000104630699924, eta=-1.7442579703630828e-11\n",
      "epsilonN=1.0000104630699924, etaN=-1.7442579703630828e-11\n",
      "kappa=95.35982968760156, KN=76680.43040186737, MN=-76677.08754472452\n",
      "yN = 3.226657932881231e-07\n"
     ]
    },
    {
     "name": "stderr",
     "output_type": "stream",
     "text": [
      "C:\\Users\\ck4te\\AppData\\Local\\Temp\\ipykernel_23124\\3508861816.py:16: RuntimeWarning:\n",
      "\n",
      "divide by zero encountered in scalar divide\n",
      "\n",
      "C:\\Users\\ck4te\\AppData\\Local\\Temp\\ipykernel_23124\\3508861816.py:16: RuntimeWarning:\n",
      "\n",
      "invalid value encountered in scalar multiply\n",
      "\n"
     ]
    },
    {
     "data": {
      "application/vnd.plotly.v1+json": {
       "config": {
        "plotlyServerURL": "https://plot.ly"
       },
       "data": [
        {
         "hovertemplate": "label=u(z)<br>x=%{x}<br>y=%{y}<extra></extra>",
         "legendgroup": "u(z)",
         "line": {
          "color": "#636efa",
          "dash": "solid"
         },
         "marker": {
          "symbol": "circle"
         },
         "mode": "lines+markers",
         "name": "u(z)",
         "orientation": "v",
         "showlegend": true,
         "type": "scatter",
         "x": {
          "bdata": "AAAAAAAAAABbv1Kg1q+EP1u/UqDWr5Q/CB988MEHnz9bv1Kg1q+kPzJvZ0jM26k/CB988MEHrz9wZ0jM2xmyP1u/UqDWr7Q/RhdddNFFtz8yb2dIzNu5Px3HcRzHcbw/CB988MEHvz96O0Ni3s7AP3BnSMzbGcI/ZZNNNtlkwz9bv1Kg1q/EP1HrVwrU+sU/RhdddNFFxz88Q2LezpDIPzJvZ0jM28k/J5tssskmyz8dx3Ecx3HMPxPzdobEvM0/CB988MEHzz9/pUCtXynQP3o7Q2LeztA/ddFFF1100T9wZ0jM2xnSP2r9SoFav9I/ZZNNNtlk0z9gKVDrVwrUP1u/UqDWr9Q/VlVVVVVV1T9R61cK1PrVP0yBWr9SoNY/RhdddNFF1z9BrV8pUOvXPzxDYt7OkNg/N9lkk0022T8yb2dIzNvZPy0Fav1Kgdo/J5tssskm2z8iMW9nSMzbPx3HcRzHcdw/GF100UUX3T8T83aGxLzdPw6JeTtDYt4/CB988MEH3z8DtX6lQK3fP3+lQK1fKeA/ffDBBx984D96O0Ni3s7gP3eGxLydIeE/ddFFF1104T9yHMdxHMfhP3BnSMzbGeI/bbLJJpts4j9q/UqBWr/iP2hIzNsZEuM/ZZNNNtlk4z9j3s6QmLfjP2ApUOtXCuQ/XnTRRRdd5D9bv1Kg1q/kP1gK1PqVAuU/VlVVVVVV5T9ToNavFKjlP1HrVwrU+uU/TjbZZJNN5j9MgVq/UqDmP0nM2xkS8+Y/RhdddNFF5z9EYt7OkJjnP0GtXylQ6+c/P/jggw8+6D88Q2LezpDoPzmO4ziO4+g/N9lkk0026T80JObtDInpPzJvZ0jM2+k/L7rooosu6j8tBWr9SoHqPypQ61cK1Oo/J5tssskm6z8l5u0MiXnrPyIxb2dIzOs/IHzwwQcf7D8dx3Ecx3HsPxsS83aGxOw/GF100UUX7T8VqPUrBWrtPxPzdobEvO0/ED744IMP7j8OiXk7Q2LuPwvU+pUCte4/CB988MEH7z8Gav1KgVrvPwO1fqVAre8/AAAAAAAA8D8=",
          "dtype": "f8"
         },
         "xaxis": "x",
         "y": {
          "bdata": "vSV8lw8ejz69JXyXDx6PPs1UatApII8+sCmHmPIjjz78IfyFWimPPshIkGlcMI8+Gnvh1/U4jz4gKEBuJUOPPt3QlzzqTo8+C3UdhUNcjz4XujibMGuPPvk4es+we48+/wKDYcONjz5j3r10Z6GPPl/Zagacto8+vsk45F/Njz6oQAOjseWPPvjZepWP/48+awtM4XsNkD7/POTt8xuQPrm0Z5kuK5A+PYGtVyo7kD6e+Chi5UuQPvygcbJdXZA+ijqy/JBvkD7SkAaqfIKQPqkk0dIdlpA+qSATOXGqkD6VZNJCc7+QPprKmvQf1ZA+WBsp7HLrkD6ZcE9bZwKRPnQGJAP4GZE+aaqMLx8ykT7wEDqz1kqRPiVVJ+QXZJE+C7uymNt9kT4tcmUlGpiRPuGCgFvLspE+9jhliObNkT5fOe91YumRPvLx1Ws1BZI+0y8qMlUhkj67WAMVtz2SPoz6belPWpI+khurExR3kj7d5MyO95OSPo7iufXtsJI+pCicjerNkj7RLr1R4OqSPlguygDCB5M+gUJ3K4Ikkz7ninFEE0GTPsQoirFnXZM+Pzz93XF5kz5sIbFNJJWTPhE5Q7FxsJM+q6+w+kzLkz4CJGNyqeWTPn0W5sx6/5M+pTLQQrUYlD5apbShTTGUPubmKl05SZQ+Z5QUpW5glD4b7E935HaUPoav0q+SjJQ+8CPlFnKhlD49ozptfLWUPt4drXWsyJQ+6RFr/P3alD62unPbbeyUPppoOf75/JQ+JyZ/XqEMlT4gsoz+YxuVPoyHquRCKZU+HxwnEkA2lT6r/h94XkKVPuqmXuqhTZU+tl+9DA9YlT6ROFFEq2GVPlqGSa58apU+RkrpDYpylT4uMe632nmVPtrC9YF2gJU+WL/Er2WGlT4p7Z3msIuVPrIH1SJhkJU+JaJBqH+UlT6G8OL0FZiVPmZRgr0tm5U+qijK19CdlT7DGzImCaCVPmQ41JXgoZU+ifeLEGGjlT5worFulKSVPjWJvGaEpZU+7i1teDqmlT4BMfzVv6aVPoC4IE0dp5U+57maKlunlT4=",
          "dtype": "f8"
         },
         "yaxis": "y"
        },
        {
         "hovertemplate": "label=u_p(z)<br>x=%{x}<br>y=%{y}<extra></extra>",
         "legendgroup": "u_p(z)",
         "line": {
          "color": "#EF553B",
          "dash": "solid"
         },
         "marker": {
          "symbol": "circle"
         },
         "mode": "lines+markers",
         "name": "u_p(z)",
         "orientation": "v",
         "showlegend": true,
         "type": "scatter",
         "x": {
          "bdata": "AAAAAAAAAABbv1Kg1q+EP1u/UqDWr5Q/CB988MEHnz9bv1Kg1q+kPzJvZ0jM26k/CB988MEHrz9wZ0jM2xmyP1u/UqDWr7Q/RhdddNFFtz8yb2dIzNu5Px3HcRzHcbw/CB988MEHvz96O0Ni3s7AP3BnSMzbGcI/ZZNNNtlkwz9bv1Kg1q/EP1HrVwrU+sU/RhdddNFFxz88Q2LezpDIPzJvZ0jM28k/J5tssskmyz8dx3Ecx3HMPxPzdobEvM0/CB988MEHzz9/pUCtXynQP3o7Q2LeztA/ddFFF1100T9wZ0jM2xnSP2r9SoFav9I/ZZNNNtlk0z9gKVDrVwrUP1u/UqDWr9Q/VlVVVVVV1T9R61cK1PrVP0yBWr9SoNY/RhdddNFF1z9BrV8pUOvXPzxDYt7OkNg/N9lkk0022T8yb2dIzNvZPy0Fav1Kgdo/J5tssskm2z8iMW9nSMzbPx3HcRzHcdw/GF100UUX3T8T83aGxLzdPw6JeTtDYt4/CB988MEH3z8DtX6lQK3fP3+lQK1fKeA/ffDBBx984D96O0Ni3s7gP3eGxLydIeE/ddFFF1104T9yHMdxHMfhP3BnSMzbGeI/bbLJJpts4j9q/UqBWr/iP2hIzNsZEuM/ZZNNNtlk4z9j3s6QmLfjP2ApUOtXCuQ/XnTRRRdd5D9bv1Kg1q/kP1gK1PqVAuU/VlVVVVVV5T9ToNavFKjlP1HrVwrU+uU/TjbZZJNN5j9MgVq/UqDmP0nM2xkS8+Y/RhdddNFF5z9EYt7OkJjnP0GtXylQ6+c/P/jggw8+6D88Q2LezpDoPzmO4ziO4+g/N9lkk0026T80JObtDInpPzJvZ0jM2+k/L7rooosu6j8tBWr9SoHqPypQ61cK1Oo/J5tssskm6z8l5u0MiXnrPyIxb2dIzOs/IHzwwQcf7D8dx3Ecx3HsPxsS83aGxOw/GF100UUX7T8VqPUrBWrtPxPzdobEvO0/ED744IMP7j8OiXk7Q2LuPwvU+pUCte4/CB988MEH7z8Gav1KgVrvPwO1fqVAre8/AAAAAAAA8D8=",
          "dtype": "f8"
         },
         "xaxis": "x",
         "y": {
          "bdata": "Wog1jjN9xT51KK5/M33FPruMv6UyfcU+nHpg9S59xT6ui9gGJX3FPsXLxRUQfcU+I+EqAep8xT4LCYxLq3zFPiAAIxtLfMU+srgzOr97xT6cjo0X/HrFPkJyRsf0ecU+S1G/A5t4xT5AzQIv33bFPq8akVSwdMU+BK2tK/xxxT5EGkUar27FPgZpgzi0asU+3r00VfVlxT7gHwz7WmDFPknJ7XbMWcU+CjNc3y9SxT6xvygdaknFPvOWivVeP8U+8uu/FfEzxT52hF8gAifFPnXqgbxyGMU+ZTbrpiIIxT4q1F/F8PXEPnkGUDy74cQ+/zMHh1/LxD4LNo2SurLEPgvpaNuol8Q+XR50jgZ6xD4Ku/Gsr1nEPqw+FzSANsQ+dxQ7SFQQxD5g3thjCOfDPqtQnIp5usM+bRqigIWKwz7vqBwGC1fDPiMviBfqH8M+byCWMgTlwj48EvSfPKbCPgGNDMJ4Y8I+jIDZaKAcwj7OjdcqntHBPnHdHsNfgsE+yWiZdNYuwT4VCT9y99bAPkLULEy8esA+CrdWYSMawD6sbe6qYGq/PvYsghXZl74+udBgPc+8vT6T61bSb9m8PqV83fn17bs+d/gBUKz6uj5ilkbl7f+5PhLAuTUn/rg+qHi/FNf1tz5y5SWIj+e2PgDqG4z207U+RHh7uMa7tD7V0o6+z5+zPqO3B7X2gLI+NyVKJjZgsT7guXXTnT6wPhT2jzmkOq4+hyoo/BX7qz4Q8WwYJcGpPl1cdr2Fj6c+rvgjnwZppT6fysXziVCjPoDxbsL8SKE+GYO6rpiqnj5L4Kd1s/CaPmMHYCbWaZc+pkF43TUblD4qCi4eiwmRPsPpWeXRcYw+LK3GFyNZhz6UKAPQk82CPhG5Oeu6on0+5MZgmzbIdj7JTm34GgVxPrLCYQzZmWg+uIsiDHIaYT49L1Od9rdWPgwixfkPlEw+sVJwMpTVQD79W0BZSk8yPqggL8KaCiI+/VMZX3VnDz6LXjLAwVD3Pa7KWe48Hdw9VNiMIqyeuT2OA4QS6qGPPeWuPR7vNlY9MjSIHhhZCj0=",
          "dtype": "f8"
         },
         "yaxis": "y"
        },
        {
         "hovertemplate": "label=F(z)<br>x=%{x}<br>y=%{y}<extra></extra>",
         "legendgroup": "F(z)",
         "line": {
          "color": "#00cc96",
          "dash": "solid"
         },
         "marker": {
          "symbol": "circle"
         },
         "mode": "lines+markers",
         "name": "F(z)",
         "orientation": "v",
         "showlegend": true,
         "type": "scatter",
         "x": {
          "bdata": "AAAAAAAAAABbv1Kg1q+EP1u/UqDWr5Q/CB988MEHnz9bv1Kg1q+kPzJvZ0jM26k/CB988MEHrz9wZ0jM2xmyP1u/UqDWr7Q/RhdddNFFtz8yb2dIzNu5Px3HcRzHcbw/CB988MEHvz96O0Ni3s7AP3BnSMzbGcI/ZZNNNtlkwz9bv1Kg1q/EP1HrVwrU+sU/RhdddNFFxz88Q2LezpDIPzJvZ0jM28k/J5tssskmyz8dx3Ecx3HMPxPzdobEvM0/CB988MEHzz9/pUCtXynQP3o7Q2LeztA/ddFFF1100T9wZ0jM2xnSP2r9SoFav9I/ZZNNNtlk0z9gKVDrVwrUP1u/UqDWr9Q/VlVVVVVV1T9R61cK1PrVP0yBWr9SoNY/RhdddNFF1z9BrV8pUOvXPzxDYt7OkNg/N9lkk0022T8yb2dIzNvZPy0Fav1Kgdo/J5tssskm2z8iMW9nSMzbPx3HcRzHcdw/GF100UUX3T8T83aGxLzdPw6JeTtDYt4/CB988MEH3z8DtX6lQK3fP3+lQK1fKeA/ffDBBx984D96O0Ni3s7gP3eGxLydIeE/ddFFF1104T9yHMdxHMfhP3BnSMzbGeI/bbLJJpts4j9q/UqBWr/iP2hIzNsZEuM/ZZNNNtlk4z9j3s6QmLfjP2ApUOtXCuQ/XnTRRRdd5D9bv1Kg1q/kP1gK1PqVAuU/VlVVVVVV5T9ToNavFKjlP1HrVwrU+uU/TjbZZJNN5j9MgVq/UqDmP0nM2xkS8+Y/RhdddNFF5z9EYt7OkJjnP0GtXylQ6+c/P/jggw8+6D88Q2LezpDoPzmO4ziO4+g/N9lkk0026T80JObtDInpPzJvZ0jM2+k/L7rooosu6j8tBWr9SoHqPypQ61cK1Oo/J5tssskm6z8l5u0MiXnrPyIxb2dIzOs/IHzwwQcf7D8dx3Ecx3HsPxsS83aGxOw/GF100UUX7T8VqPUrBWrtPxPzdobEvO0/ED744IMP7j8OiXk7Q2LuPwvU+pUCte4/CB988MEH7z8Gav1KgVrvPwO1fqVAre8/AAAAAAAA8D8=",
          "dtype": "f8"
         },
         "xaxis": "x",
         "y": {
          "bdata": "AAAAAAAA+P/ENufdMjJLPveAcaUiMls+vbbzkHhlZD4Y/b4htTFrPlOwmxHX/nA+KIYVtKZkdD7Sffp7N8p3PrMFw9J3L3s+swj1Xk2Ufj7zZpTgTvyAPgtvr9ohroI+Q70024xfhD4UsNqQdhCGPrnr43jFwIc+cjp8Y1hwiT5Vp3XnDR+LPpozwdS7zIw+IAUYwjd5jj5UBSi4JhKQPvIE2zfk5pA+lTScvrS6kT7y7PSbeI2SPpNZp0MKX5M+vXXvKUQvlD5vG1GG+v2UPpeim6cBy5U+dQJIVSeWlj7PMOmNOV+XPvrmQZr/JZg+C5S3JEHqmD539O0Vv6uZPu8kQ+86apo+qcS7jW8lmz7mQJCsGN2bPqv4ZrDrkJw+Y2SlMZ9AnT6u0C/34+udPvHBqmJskp4+5Qb6xuUznz6Unh2L/8+fPveTkYYyM6A+5ImKJWJ7oD59YE9DZMCgPoWOex8QAqE+EirSZTxAoT4z5Wi3wXqhPtrk8w55saE+Gy/suD3koT6j5whp7BKiPna9R4RkPaI+fxI7/4djoj7rbF3eO4WiPj8ic/BooqI+SzXHbPu6oj4Oz2qW5M6iPo+hMGUZ3qI++aPpFZXooj5x0m/SVu6iPtaCbCll76I+vtfkucrroj6q2rN5muOiPlTNb0nr1qI+pI8TBN3Foj5SztZKk7CiPt3fw/o6l6I+OmZrRwR6oj67drFrKFmiPlW2I0zjNKI+qO3oEnkNoj7ImW2nL+OhPiVE89xTtqE+QJgeHDOHoT4+Rhe8H1ahPh5yZFBrI6E+j6jf32nvoD6TN2w0bbqgPiAVIKbGhKA+F45g2sNOoD47fPL4rhigPp/KKFqaxZ8+bDuagrpanz7SB84fMPGePunwFIhbiZ4+3VvLZZAjnj7UyJNfDsCdPnqJxu0IX50+scCGWp8AnT7ry/Cx5qScPiqKxEfiS5w+W5nKG471mz5ePTtA2aGbPios7r2uUJs+nZzF2PEBmz7sqz2fhLWaPqOR3tJFa5o+fYdIrxQjmj6x5Hn8z9yZPka7JrVXmJk+CnRK04xVmT4=",
          "dtype": "f8"
         },
         "yaxis": "y"
        },
        {
         "hovertemplate": "label=dF(z)<br>x=%{x}<br>y=%{y}<extra></extra>",
         "legendgroup": "dF(z)",
         "line": {
          "color": "#ab63fa",
          "dash": "solid"
         },
         "marker": {
          "symbol": "circle"
         },
         "mode": "lines+markers",
         "name": "dF(z)",
         "orientation": "v",
         "showlegend": true,
         "type": "scatter",
         "x": {
          "bdata": "AAAAAAAAAABbv1Kg1q+EP1u/UqDWr5Q/CB988MEHnz9bv1Kg1q+kPzJvZ0jM26k/CB988MEHrz9wZ0jM2xmyP1u/UqDWr7Q/RhdddNFFtz8yb2dIzNu5Px3HcRzHcbw/CB988MEHvz96O0Ni3s7AP3BnSMzbGcI/ZZNNNtlkwz9bv1Kg1q/EP1HrVwrU+sU/RhdddNFFxz88Q2LezpDIPzJvZ0jM28k/J5tssskmyz8dx3Ecx3HMPxPzdobEvM0/CB988MEHzz9/pUCtXynQP3o7Q2LeztA/ddFFF1100T9wZ0jM2xnSP2r9SoFav9I/ZZNNNtlk0z9gKVDrVwrUP1u/UqDWr9Q/VlVVVVVV1T9R61cK1PrVP0yBWr9SoNY/RhdddNFF1z9BrV8pUOvXPzxDYt7OkNg/N9lkk0022T8yb2dIzNvZPy0Fav1Kgdo/J5tssskm2z8iMW9nSMzbPx3HcRzHcdw/GF100UUX3T8T83aGxLzdPw6JeTtDYt4/CB988MEH3z8DtX6lQK3fP3+lQK1fKeA/ffDBBx984D96O0Ni3s7gP3eGxLydIeE/ddFFF1104T9yHMdxHMfhP3BnSMzbGeI/bbLJJpts4j9q/UqBWr/iP2hIzNsZEuM/ZZNNNtlk4z9j3s6QmLfjP2ApUOtXCuQ/XnTRRRdd5D9bv1Kg1q/kP1gK1PqVAuU/VlVVVVVV5T9ToNavFKjlP1HrVwrU+uU/TjbZZJNN5j9MgVq/UqDmP0nM2xkS8+Y/RhdddNFF5z9EYt7OkJjnP0GtXylQ6+c/P/jggw8+6D88Q2LezpDoPzmO4ziO4+g/N9lkk0026T80JObtDInpPzJvZ0jM2+k/L7rooosu6j8tBWr9SoHqPypQ61cK1Oo/J5tssskm6z8l5u0MiXnrPyIxb2dIzOs/IHzwwQcf7D8dx3Ecx3HsPxsS83aGxOw/GF100UUX7T8VqPUrBWrtPxPzdobEvO0/ED744IMP7j8OiXk7Q2LuPwvU+pUCte4/CB988MEH7z8Gav1KgVrvPwO1fqVAre8/AAAAAAAA8D8=",
          "dtype": "f8"
         },
         "xaxis": "x",
         "y": {
          "bdata": "AAAAAAAA+P9b1KBX0wi1PkmfSZ2UCLU+OSHvUygItT6Cclr0fge1PizY8hOPBrU+R8uH+0QFtT5uskABjgO1PqS3RWBPAbU+L+Wzf27+tD48k50zyfq0PlyITUQ99rQ+ZbvmIKHwtD6/+U0ny+m0PlsNxoaK4bQ+QS7jca7XtD5ZMZUc/8u0PtDvu+dEvrQ++jP3dUGutD4VXoHWtpu0PgTvO7NghrQ+cvSte/tttD5sYbKyPVK0PqlEkBffMrQ+GZpIHJIPtD7QC4MIC+izPsSQaaP5u7M+E8oVShCLsz5fH3DZ/VSzPqGzra90GbM+UwnW4yTYsj69fpwnw5CyPh6G+1oDQ7I+5Iw6QZ/usT7VBGV/UZOxPk1NnBTcMLE+XNj40QPHsD7H22SDllWwPtYgIt3NuK8+qtgcLaW2rj4i75+bfKStPhJcTfc2gqw+HtRllcpPqz72j8+oSg2qPgaBduPiuqg+gpE6XN9Ypz5oejZ3qeelPhYWAxnOZ6Q+JO4WzfvZoj7E+QsCBz+hPqAulrDSL58+lIRzRYfLmz6szi5zvFOYPqgrTfxQy5Q+0Hyg/XM1kT7gwr4QPSuLPsBumhUu34M+cCl3lpQdeT7gccDYrAplPsDRKumpwk++0Lv5zGFIcr78QAA/3yuAvrBl/DRHCYe+zN/9o3Gyjb600HqwrQ6Svhqae8IcIJW+pZqk37wImL580X+qBsSavgsoWpq2TZ2+F40c5vOhn77G/34Jqt6gvqd6sbV+zqG++DcgE1ufor5qKgelfFCjvuGKuSp/4aO+/KNoFmlSpL5izUNnq6Okvkkriuon1qS+jtJx1y3rpL6KVfAjd+SkvpTrZyEjxKS+hM9MNKqMpL67g1mc0ECkvhgLssyR46O+jaw21gx4o77cXsfsbAGjvok2vrvRgqK+w+J+4DD/ob41r6DtQ3mhvotTKTp286C+qlQ7XsRvoL7IsRZZjt+fvgnjHmVf6Z6+nq5dkJX+nb6P79naJiCdvtD4LTiBTpy+dXnpXrGJm76gu9s/gNGavlYwE+6LJZq+KcvLREeFmb4=",
          "dtype": "f8"
         },
         "yaxis": "y"
        }
       ],
       "layout": {
        "legend": {
         "title": {
          "text": "label"
         },
         "tracegroupgap": 0
        },
        "margin": {
         "t": 60
        },
        "template": {
         "data": {
          "bar": [
           {
            "error_x": {
             "color": "#2a3f5f"
            },
            "error_y": {
             "color": "#2a3f5f"
            },
            "marker": {
             "line": {
              "color": "#E5ECF6",
              "width": 0.5
             },
             "pattern": {
              "fillmode": "overlay",
              "size": 10,
              "solidity": 0.2
             }
            },
            "type": "bar"
           }
          ],
          "barpolar": [
           {
            "marker": {
             "line": {
              "color": "#E5ECF6",
              "width": 0.5
             },
             "pattern": {
              "fillmode": "overlay",
              "size": 10,
              "solidity": 0.2
             }
            },
            "type": "barpolar"
           }
          ],
          "carpet": [
           {
            "aaxis": {
             "endlinecolor": "#2a3f5f",
             "gridcolor": "white",
             "linecolor": "white",
             "minorgridcolor": "white",
             "startlinecolor": "#2a3f5f"
            },
            "baxis": {
             "endlinecolor": "#2a3f5f",
             "gridcolor": "white",
             "linecolor": "white",
             "minorgridcolor": "white",
             "startlinecolor": "#2a3f5f"
            },
            "type": "carpet"
           }
          ],
          "choropleth": [
           {
            "colorbar": {
             "outlinewidth": 0,
             "ticks": ""
            },
            "type": "choropleth"
           }
          ],
          "contour": [
           {
            "colorbar": {
             "outlinewidth": 0,
             "ticks": ""
            },
            "colorscale": [
             [
              0,
              "#0d0887"
             ],
             [
              0.1111111111111111,
              "#46039f"
             ],
             [
              0.2222222222222222,
              "#7201a8"
             ],
             [
              0.3333333333333333,
              "#9c179e"
             ],
             [
              0.4444444444444444,
              "#bd3786"
             ],
             [
              0.5555555555555556,
              "#d8576b"
             ],
             [
              0.6666666666666666,
              "#ed7953"
             ],
             [
              0.7777777777777778,
              "#fb9f3a"
             ],
             [
              0.8888888888888888,
              "#fdca26"
             ],
             [
              1,
              "#f0f921"
             ]
            ],
            "type": "contour"
           }
          ],
          "contourcarpet": [
           {
            "colorbar": {
             "outlinewidth": 0,
             "ticks": ""
            },
            "type": "contourcarpet"
           }
          ],
          "heatmap": [
           {
            "colorbar": {
             "outlinewidth": 0,
             "ticks": ""
            },
            "colorscale": [
             [
              0,
              "#0d0887"
             ],
             [
              0.1111111111111111,
              "#46039f"
             ],
             [
              0.2222222222222222,
              "#7201a8"
             ],
             [
              0.3333333333333333,
              "#9c179e"
             ],
             [
              0.4444444444444444,
              "#bd3786"
             ],
             [
              0.5555555555555556,
              "#d8576b"
             ],
             [
              0.6666666666666666,
              "#ed7953"
             ],
             [
              0.7777777777777778,
              "#fb9f3a"
             ],
             [
              0.8888888888888888,
              "#fdca26"
             ],
             [
              1,
              "#f0f921"
             ]
            ],
            "type": "heatmap"
           }
          ],
          "histogram": [
           {
            "marker": {
             "pattern": {
              "fillmode": "overlay",
              "size": 10,
              "solidity": 0.2
             }
            },
            "type": "histogram"
           }
          ],
          "histogram2d": [
           {
            "colorbar": {
             "outlinewidth": 0,
             "ticks": ""
            },
            "colorscale": [
             [
              0,
              "#0d0887"
             ],
             [
              0.1111111111111111,
              "#46039f"
             ],
             [
              0.2222222222222222,
              "#7201a8"
             ],
             [
              0.3333333333333333,
              "#9c179e"
             ],
             [
              0.4444444444444444,
              "#bd3786"
             ],
             [
              0.5555555555555556,
              "#d8576b"
             ],
             [
              0.6666666666666666,
              "#ed7953"
             ],
             [
              0.7777777777777778,
              "#fb9f3a"
             ],
             [
              0.8888888888888888,
              "#fdca26"
             ],
             [
              1,
              "#f0f921"
             ]
            ],
            "type": "histogram2d"
           }
          ],
          "histogram2dcontour": [
           {
            "colorbar": {
             "outlinewidth": 0,
             "ticks": ""
            },
            "colorscale": [
             [
              0,
              "#0d0887"
             ],
             [
              0.1111111111111111,
              "#46039f"
             ],
             [
              0.2222222222222222,
              "#7201a8"
             ],
             [
              0.3333333333333333,
              "#9c179e"
             ],
             [
              0.4444444444444444,
              "#bd3786"
             ],
             [
              0.5555555555555556,
              "#d8576b"
             ],
             [
              0.6666666666666666,
              "#ed7953"
             ],
             [
              0.7777777777777778,
              "#fb9f3a"
             ],
             [
              0.8888888888888888,
              "#fdca26"
             ],
             [
              1,
              "#f0f921"
             ]
            ],
            "type": "histogram2dcontour"
           }
          ],
          "mesh3d": [
           {
            "colorbar": {
             "outlinewidth": 0,
             "ticks": ""
            },
            "type": "mesh3d"
           }
          ],
          "parcoords": [
           {
            "line": {
             "colorbar": {
              "outlinewidth": 0,
              "ticks": ""
             }
            },
            "type": "parcoords"
           }
          ],
          "pie": [
           {
            "automargin": true,
            "type": "pie"
           }
          ],
          "scatter": [
           {
            "fillpattern": {
             "fillmode": "overlay",
             "size": 10,
             "solidity": 0.2
            },
            "type": "scatter"
           }
          ],
          "scatter3d": [
           {
            "line": {
             "colorbar": {
              "outlinewidth": 0,
              "ticks": ""
             }
            },
            "marker": {
             "colorbar": {
              "outlinewidth": 0,
              "ticks": ""
             }
            },
            "type": "scatter3d"
           }
          ],
          "scattercarpet": [
           {
            "marker": {
             "colorbar": {
              "outlinewidth": 0,
              "ticks": ""
             }
            },
            "type": "scattercarpet"
           }
          ],
          "scattergeo": [
           {
            "marker": {
             "colorbar": {
              "outlinewidth": 0,
              "ticks": ""
             }
            },
            "type": "scattergeo"
           }
          ],
          "scattergl": [
           {
            "marker": {
             "colorbar": {
              "outlinewidth": 0,
              "ticks": ""
             }
            },
            "type": "scattergl"
           }
          ],
          "scattermap": [
           {
            "marker": {
             "colorbar": {
              "outlinewidth": 0,
              "ticks": ""
             }
            },
            "type": "scattermap"
           }
          ],
          "scattermapbox": [
           {
            "marker": {
             "colorbar": {
              "outlinewidth": 0,
              "ticks": ""
             }
            },
            "type": "scattermapbox"
           }
          ],
          "scatterpolar": [
           {
            "marker": {
             "colorbar": {
              "outlinewidth": 0,
              "ticks": ""
             }
            },
            "type": "scatterpolar"
           }
          ],
          "scatterpolargl": [
           {
            "marker": {
             "colorbar": {
              "outlinewidth": 0,
              "ticks": ""
             }
            },
            "type": "scatterpolargl"
           }
          ],
          "scatterternary": [
           {
            "marker": {
             "colorbar": {
              "outlinewidth": 0,
              "ticks": ""
             }
            },
            "type": "scatterternary"
           }
          ],
          "surface": [
           {
            "colorbar": {
             "outlinewidth": 0,
             "ticks": ""
            },
            "colorscale": [
             [
              0,
              "#0d0887"
             ],
             [
              0.1111111111111111,
              "#46039f"
             ],
             [
              0.2222222222222222,
              "#7201a8"
             ],
             [
              0.3333333333333333,
              "#9c179e"
             ],
             [
              0.4444444444444444,
              "#bd3786"
             ],
             [
              0.5555555555555556,
              "#d8576b"
             ],
             [
              0.6666666666666666,
              "#ed7953"
             ],
             [
              0.7777777777777778,
              "#fb9f3a"
             ],
             [
              0.8888888888888888,
              "#fdca26"
             ],
             [
              1,
              "#f0f921"
             ]
            ],
            "type": "surface"
           }
          ],
          "table": [
           {
            "cells": {
             "fill": {
              "color": "#EBF0F8"
             },
             "line": {
              "color": "white"
             }
            },
            "header": {
             "fill": {
              "color": "#C8D4E3"
             },
             "line": {
              "color": "white"
             }
            },
            "type": "table"
           }
          ]
         },
         "layout": {
          "annotationdefaults": {
           "arrowcolor": "#2a3f5f",
           "arrowhead": 0,
           "arrowwidth": 1
          },
          "autotypenumbers": "strict",
          "coloraxis": {
           "colorbar": {
            "outlinewidth": 0,
            "ticks": ""
           }
          },
          "colorscale": {
           "diverging": [
            [
             0,
             "#8e0152"
            ],
            [
             0.1,
             "#c51b7d"
            ],
            [
             0.2,
             "#de77ae"
            ],
            [
             0.3,
             "#f1b6da"
            ],
            [
             0.4,
             "#fde0ef"
            ],
            [
             0.5,
             "#f7f7f7"
            ],
            [
             0.6,
             "#e6f5d0"
            ],
            [
             0.7,
             "#b8e186"
            ],
            [
             0.8,
             "#7fbc41"
            ],
            [
             0.9,
             "#4d9221"
            ],
            [
             1,
             "#276419"
            ]
           ],
           "sequential": [
            [
             0,
             "#0d0887"
            ],
            [
             0.1111111111111111,
             "#46039f"
            ],
            [
             0.2222222222222222,
             "#7201a8"
            ],
            [
             0.3333333333333333,
             "#9c179e"
            ],
            [
             0.4444444444444444,
             "#bd3786"
            ],
            [
             0.5555555555555556,
             "#d8576b"
            ],
            [
             0.6666666666666666,
             "#ed7953"
            ],
            [
             0.7777777777777778,
             "#fb9f3a"
            ],
            [
             0.8888888888888888,
             "#fdca26"
            ],
            [
             1,
             "#f0f921"
            ]
           ],
           "sequentialminus": [
            [
             0,
             "#0d0887"
            ],
            [
             0.1111111111111111,
             "#46039f"
            ],
            [
             0.2222222222222222,
             "#7201a8"
            ],
            [
             0.3333333333333333,
             "#9c179e"
            ],
            [
             0.4444444444444444,
             "#bd3786"
            ],
            [
             0.5555555555555556,
             "#d8576b"
            ],
            [
             0.6666666666666666,
             "#ed7953"
            ],
            [
             0.7777777777777778,
             "#fb9f3a"
            ],
            [
             0.8888888888888888,
             "#fdca26"
            ],
            [
             1,
             "#f0f921"
            ]
           ]
          },
          "colorway": [
           "#636efa",
           "#EF553B",
           "#00cc96",
           "#ab63fa",
           "#FFA15A",
           "#19d3f3",
           "#FF6692",
           "#B6E880",
           "#FF97FF",
           "#FECB52"
          ],
          "font": {
           "color": "#2a3f5f"
          },
          "geo": {
           "bgcolor": "white",
           "lakecolor": "white",
           "landcolor": "#E5ECF6",
           "showlakes": true,
           "showland": true,
           "subunitcolor": "white"
          },
          "hoverlabel": {
           "align": "left"
          },
          "hovermode": "closest",
          "mapbox": {
           "style": "light"
          },
          "paper_bgcolor": "white",
          "plot_bgcolor": "#E5ECF6",
          "polar": {
           "angularaxis": {
            "gridcolor": "white",
            "linecolor": "white",
            "ticks": ""
           },
           "bgcolor": "#E5ECF6",
           "radialaxis": {
            "gridcolor": "white",
            "linecolor": "white",
            "ticks": ""
           }
          },
          "scene": {
           "xaxis": {
            "backgroundcolor": "#E5ECF6",
            "gridcolor": "white",
            "gridwidth": 2,
            "linecolor": "white",
            "showbackground": true,
            "ticks": "",
            "zerolinecolor": "white"
           },
           "yaxis": {
            "backgroundcolor": "#E5ECF6",
            "gridcolor": "white",
            "gridwidth": 2,
            "linecolor": "white",
            "showbackground": true,
            "ticks": "",
            "zerolinecolor": "white"
           },
           "zaxis": {
            "backgroundcolor": "#E5ECF6",
            "gridcolor": "white",
            "gridwidth": 2,
            "linecolor": "white",
            "showbackground": true,
            "ticks": "",
            "zerolinecolor": "white"
           }
          },
          "shapedefaults": {
           "line": {
            "color": "#2a3f5f"
           }
          },
          "ternary": {
           "aaxis": {
            "gridcolor": "white",
            "linecolor": "white",
            "ticks": ""
           },
           "baxis": {
            "gridcolor": "white",
            "linecolor": "white",
            "ticks": ""
           },
           "bgcolor": "#E5ECF6",
           "caxis": {
            "gridcolor": "white",
            "linecolor": "white",
            "ticks": ""
           }
          },
          "title": {
           "x": 0.05
          },
          "xaxis": {
           "automargin": true,
           "gridcolor": "white",
           "linecolor": "white",
           "ticks": "",
           "title": {
            "standoff": 15
           },
           "zerolinecolor": "white",
           "zerolinewidth": 2
          },
          "yaxis": {
           "automargin": true,
           "gridcolor": "white",
           "linecolor": "white",
           "ticks": "",
           "title": {
            "standoff": 15
           },
           "zerolinecolor": "white",
           "zerolinewidth": 2
          }
         }
        },
        "xaxis": {
         "anchor": "y",
         "domain": [
          0,
          1
         ],
         "title": {
          "text": "x"
         }
        },
        "yaxis": {
         "anchor": "x",
         "domain": [
          0,
          1
         ],
         "title": {
          "text": "y"
         }
        }
       }
      }
     },
     "metadata": {},
     "output_type": "display_data"
    }
   ],
   "source": [
    "import plotly.express as px\n",
    "import pandas as pd\n",
    "from scipy import integrate\n",
    "\n",
    "cntSteps = 100\n",
    "k_z = getk_zFunc(variantkT=1)\n",
    "zvals = np.linspace(0, 1, num=cntSteps)\n",
    "uvals = progonka(k_z, cntSteps)\n",
    "upvals = [up_z(z) for z in zvals]\n",
    "\n",
    "def getFvals(zvals):\n",
    "    F = []\n",
    "    intFunc = []\n",
    "    for i in range(len(zvals)):\n",
    "        intFunc.append(zvals[i] * k_z(zvals[i]) * (upvals[i] - uvals[i]))\n",
    "        F.append(3 * R / zvals[i] * integrate.simpson(intFunc, zvals[:i+1]))\n",
    "    return F\n",
    "\n",
    "def get_dFvals(zvals, uvals, upvals, Fvals):\n",
    "    dF = []\n",
    "    for i in range(len(zvals)):\n",
    "        dF.append(3 * R * k_z(zvals[i]) * (upvals[i] - uvals[i]) - Fvals[i] / zvals[i])\n",
    "    return dF\n",
    "\n",
    "Fvals = getFvals(zvals)\n",
    "# dFvals = get_dFvals(zvals, uvals, upvals, Fvals)\n",
    "\n",
    "df1 = pd.DataFrame({\"x\": zvals, \"y\": uvals, \"label\": [\"u(z)\"] * len(uvals) })\n",
    "df2 = pd.DataFrame({\"x\": zvals, \"y\": upvals, \"label\": [\"u_p(z)\"] * len(upvals) })\n",
    "df3 = pd.DataFrame({\"x\": zvals, \"y\": Fvals, \"label\": [\"F(z)\"] * len(Fvals) })\n",
    "df4 = pd.DataFrame({\"x\": zvals, \"y\": dFvals, \"label\": [\"dF(z)\"] * len(Fvals) })\n",
    "df = pd.concat([df1, df2, df3, df4]) # \n",
    "fig1 = px.line(df, x=\"x\", y=\"y\", color=\"label\", title=\"\", markers = True)\n",
    "fig1.show()\n"
   ]
  },
  {
   "cell_type": "code",
   "execution_count": 161,
   "id": "d8ac1043",
   "metadata": {},
   "outputs": [],
   "source": [
    "\n",
    "\n",
    "# zvals = np.linspace(0, 1, num=cntSteps)\n",
    "\n",
    "\n",
    "\n",
    "\n",
    "def IntegrF(z, u : list[float]):\n",
    "    k = getkFunc()\n",
    "    F = [0] * len(u)\n",
    "    intFunc = []\n",
    "    for i in range(len(u)):\n",
    "        intFunc.append(z[i] * k(T(z[i])) * (Plank(z[i])) - u[i])\n",
    "        F[i] = 3*R/z[i] * sp.integrate.simpson(intFunc, z[:i+1])\n",
    "    return F\n"
   ]
  }
 ],
 "metadata": {
  "kernelspec": {
   "display_name": ".venv",
   "language": "python",
   "name": "python3"
  },
  "language_info": {
   "codemirror_mode": {
    "name": "ipython",
    "version": 3
   },
   "file_extension": ".py",
   "mimetype": "text/x-python",
   "name": "python",
   "nbconvert_exporter": "python",
   "pygments_lexer": "ipython3",
   "version": "3.12.7"
  }
 },
 "nbformat": 4,
 "nbformat_minor": 5
}
