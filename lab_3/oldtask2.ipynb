{
 "cells": [
  {
   "cell_type": "markdown",
   "id": "465132fb",
   "metadata": {},
   "source": [
    "### T(z), Up(z)"
   ]
  },
  {
   "cell_type": "code",
   "execution_count": 1,
   "id": "dd03b4a7",
   "metadata": {},
   "outputs": [],
   "source": [
    "c = 3 * 1e10    # Скорость света\n",
    "R = 0.35        # Радиус цилиндра\n",
    "\n",
    "# температурное поле в цилиндре\n",
    "def T_z(z):\n",
    "    Tw, To, p = 2000, 1e4, 4\n",
    "    return (Tw - To) * (z ** p) + To\n",
    "\n",
    "# функция Планка\n",
    "def up_z(z):\n",
    "    return (3.084 * 1e-4) / (np.exp(4.799 * 1e4 / T_z(z)) - 1)"
   ]
  },
  {
   "cell_type": "markdown",
   "id": "d99ef0db",
   "metadata": {},
   "source": [
    "#### k(z) = k(T(z)) "
   ]
  },
  {
   "cell_type": "code",
   "execution_count": 2,
   "id": "0271a3c4",
   "metadata": {},
   "outputs": [],
   "source": [
    "def read_data_kT(variant=1):\n",
    "    data_tab = []\n",
    "    with open('data/kT.txt') as file:\n",
    "        line = file.readline()\n",
    "        while line != '':\n",
    "            line = line.split()\n",
    "            if variant == 1:\n",
    "                data_tab.append([int(line[1]), float(line[2])])\n",
    "            else:\n",
    "                data_tab.append([int(line[1]), float(line[3])])\n",
    "\n",
    "            line = file.readline()\n",
    "\n",
    "    return data_tab\n",
    "    \n",
    "import numpy as np\n",
    "\n",
    "def getk_zFunc(variantkT):\n",
    "    data_kT = read_data_kT(variantkT)\n",
    "    Tvals = [np.log(data_kT[i][0]) for i in range(len(data_kT))]\n",
    "    kvals = [np.log(data_kT[i][1]) for i in range(len(data_kT))]\n",
    "    def k_z(z):\n",
    "        T = T_z(z)\n",
    "        return np.exp(np.interp([np.log(T)], Tvals, kvals)[0])\n",
    "    return k_z\n"
   ]
  },
  {
   "cell_type": "markdown",
   "id": "bdd411d6",
   "metadata": {},
   "source": [
    "#### Параметры разностной схемы"
   ]
  },
  {
   "cell_type": "code",
   "execution_count": 9,
   "id": "14578860",
   "metadata": {},
   "outputs": [],
   "source": [
    "def getStartParams(h, k_z, z0):\n",
    "    M0 = 1 / (R**2 * (k_z(z0 + h) + k_z(z0)))\n",
    "    K0 = -M0\n",
    "    Q0 = 0\n",
    "    epsilon1 = -K0 / M0\n",
    "    eta1 = Q0 / M0\n",
    "    print(f'M0 = {M0}, K0 = {K0}')\n",
    "    print(f'epsilon1 = {epsilon1}, eta1 = {eta1}')\n",
    "    return epsilon1, eta1\n",
    "\n",
    "def vn(zn, h):\n",
    "    return zn * h\n",
    "\n",
    "def kappa_n_p_half(zn, znp1, k_z):\n",
    "    return 2 / (k_z(znp1) + k_z(zn))\n",
    "\n",
    "def kappa_n_m_half(zn, znm1, k_z):\n",
    "    return 2 / (k_z(znm1) + k_z(zn))\n",
    "\n",
    "def An(zn, h, k_z):\n",
    "    return -((zn - h / 2) * kappa_n_m_half(zn, zn - h, k_z)) / (R**2 * h)\n",
    "\n",
    "def Dn(zn, h, k_z):\n",
    "    return -((zn + h / 2) * kappa_n_p_half(zn, zn + h, k_z)) / (R**2 * h)\n",
    "\n",
    "def Bn(zn, h, k_z):\n",
    "    return An(zn, h, k_z) + Dn(zn, h, k_z) - 3 * k_z(zn) * vn(zn, h)\n",
    "\n",
    "def Fn(zn, h, k_z):\n",
    "    return - 3 * k_z(zn) * up_z(zn) * vn(zn, h)\n",
    "\n",
    "def getyN(epsilonN, etaN, h, k_z):\n",
    "    kappa = 2 / (k_z(1 - h) + k_z(1))\n",
    "    MN = - (1 - h / 2) * kappa / (R**2 * h)\n",
    "    KN = -MN + 3 * 0.39 / R\n",
    "    QN = 0\n",
    "    yN = (QN - MN * etaN) / (MN * epsilonN + KN)\n",
    "    # kappa = 2 / (k_z(1 - h) + k_z(1))\n",
    "    # MN = - (1 - h / 2) * kappa / (R**2 * h)\n",
    "    # KN = -MN + 3 * 0.39 / R\n",
    "    # QN = 0\n",
    "    # yN = (QN - KN * etaN) / (KN * epsilonN + MN)\n",
    "    print(f'epsilonN={epsilonN}, etaN={etaN}')\n",
    "    print(f'kappa={kappa}, KN={KN}, MN={MN}')\n",
    "    return yN"
   ]
  },
  {
   "cell_type": "markdown",
   "id": "6ee5a409",
   "metadata": {},
   "source": [
    "#### Разностная схема - прогонка"
   ]
  },
  {
   "cell_type": "code",
   "execution_count": 10,
   "id": "2f741f70",
   "metadata": {},
   "outputs": [],
   "source": [
    "def epsilon_eta_ip1(zi, epsiloni, etai, h, k_z, i):\n",
    "    Ai = An(zi, h, k_z)\n",
    "    Bi = Bn(zi, h, k_z)\n",
    "    Di = Dn(zi, h, k_z)\n",
    "    Fi = Fn(zi, h, k_z)\n",
    "    epsilon_ip1 = Di / (Bi - Ai * epsiloni)\n",
    "    eta_ip1 = (Ai * etai + Fi) / (Bi - Ai * epsiloni)\n",
    "    print(f'i={i}, zi={zi}: ', end='')\n",
    "    # print(f'Ai={Ai}, Bi={Bi}, Di={Di}, Fi={Fi} ', end='')\n",
    "    print(f'epsilon={epsilon_ip1}, eta={eta_ip1}')\n",
    "    return (epsilon_ip1, eta_ip1)\n",
    "\n",
    "def progonka(k_z, N=100):\n",
    "    N -= 1\n",
    "    z0, zN = 0, 1\n",
    "    h = (zN - z0) / N\n",
    "    print(f'h = {h}')\n",
    "    epsilon1, eta1 = getStartParams(h, k_z, z0)\n",
    "    zvals = [z0]\n",
    "    epsilonVals, etaVals = [float(epsilon1)], [float(eta1)]\n",
    "\n",
    "    for i in range(N):\n",
    "        epsilonNext, etaNext = epsilon_eta_ip1(zvals[-1], epsilonVals[-1], etaVals[-1], h, k_z, i)\n",
    "        epsilonVals.append(float(epsilonNext))\n",
    "        etaVals.append(float(etaNext))\n",
    "        zvals.append(zvals[-1] + h)\n",
    "\n",
    "    # print(f'epsilonVals={epsilonVals}')\n",
    "    # print(f'etaVals={etaVals}')\n",
    "\n",
    "    yN = getyN(epsilonVals[-1], etaVals[-1], h, k_z)\n",
    "    print(f'yN = {yN}')\n",
    "    yvals = [0] * (N + 1) \n",
    "    yvals[N] = yN \n",
    "    for i in range(N - 1, -1, -1):\n",
    "        yi = epsilonVals[i + 1] * yvals[i + 1] + etaVals[i + 1]\n",
    "        yvals[i] = yi\n",
    "    \n",
    "    return yvals\n",
    "\n",
    "def getFvals(yvals, h, k_z):\n",
    "    Fvals = [0]\n",
    "    for i in range(1, len(yvals) - 1):\n",
    "        Fvals.append((yvals[i + 1] - yvals[i - 1]) / (2 * h))\n"
   ]
  },
  {
   "cell_type": "code",
   "execution_count": 13,
   "id": "aab35982",
   "metadata": {},
   "outputs": [
    {
     "name": "stdout",
     "output_type": "stream",
     "text": [
      "h = 0.010101010101010102\n",
      "M0 = 3.982080686883293, K0 = -3.982080686883293\n",
      "epsilon1 = 1.0, eta1 = 0.0\n",
      "i=0, zi=0: epsilon=1.0, eta=-0.0\n",
      "i=1, zi=0.010101010101010102: epsilon=0.9999737377508505, eta=6.727590955305783e-11\n",
      "i=2, zi=0.020202020202020204: epsilon=0.9999527294175365, eta=1.2109283293443014e-10\n",
      "i=3, zi=0.030303030303030304: epsilon=0.9999324735264155, eta=1.7298201174417638e-10\n",
      "i=4, zi=0.04040404040404041: epsilon=0.9999124707777014, eta=2.2422212948006945e-10\n",
      "i=5, zi=0.05050505050505051: epsilon=0.9998925859631044, eta=2.7515889320619716e-10\n",
      "i=6, zi=0.060606060606060615: epsilon=0.9998727681854981, eta=3.259216647506732e-10\n",
      "i=7, zi=0.07070707070707072: epsilon=0.9998529949653778, eta=3.765665621169303e-10\n",
      "i=8, zi=0.08080808080808081: epsilon=0.9998332558565799, eta=4.271183505525952e-10\n",
      "i=9, zi=0.09090909090909091: epsilon=0.9998135464589285, eta=4.775857004474693e-10\n",
      "i=10, zi=0.10101010101010101: epsilon=0.9997938658962174, eta=5.279675689935628e-10\n",
      "i=11, zi=0.1111111111111111: epsilon=0.9997742156498188, eta=5.782561104284488e-10\n",
      "i=12, zi=0.1212121212121212: epsilon=0.9997545989883088, eta=6.284380612151145e-10\n",
      "i=13, zi=0.1313131313131313: epsilon=0.9997350206835225, eta=6.784953938167354e-10\n",
      "i=14, zi=0.1414141414141414: epsilon=0.9997154868741239, eta=7.284055956265188e-10\n",
      "i=15, zi=0.15151515151515152: epsilon=0.999696005009324, eta=7.781417464456703e-10\n",
      "i=16, zi=0.16161616161616163: epsilon=0.999676583837881, eta=8.276724847771104e-10\n",
      "i=17, zi=0.17171717171717174: epsilon=0.9996572334232884, eta=8.769619129584099e-10\n",
      "i=18, zi=0.18181818181818185: epsilon=0.9996379651741195, eta=9.259694706200036e-10\n",
      "i=19, zi=0.19191919191919196: epsilon=0.999618791882829, eta=9.746497950205283e-10\n",
      "i=20, zi=0.20202020202020207: epsilon=0.9995997277687131, eta=1.0229525807959752e-09\n",
      "i=21, zi=0.21212121212121218: epsilon=0.9995807885221145, eta=1.0708224482734098e-09\n",
      "i=22, zi=0.2222222222222223: epsilon=0.9995619913477534, eta=1.1181988275704042e-09\n",
      "i=23, zi=0.2323232323232324: epsilon=0.9995433550055559, eta=1.1650158646013377e-09\n",
      "i=24, zi=0.24242424242424251: epsilon=0.999524899847625, eta=1.211202354493144e-09\n",
      "i=25, zi=0.2525252525252526: epsilon=0.999506647850181, eta=1.2566817075743733e-09\n",
      "i=26, zi=0.2626262626262627: epsilon=0.9994886226393754, eta=1.30137195292156e-09\n",
      "i=27, zi=0.2727272727272728: epsilon=0.999470849509952, eta=1.3451857843492886e-09\n",
      "i=28, zi=0.28282828282828293: epsilon=0.9994533554357383, eta=1.3880306536642904e-09\n",
      "i=29, zi=0.29292929292929304: epsilon=0.9994361690709663, eta=1.4298089159337017e-09\n",
      "i=30, zi=0.30303030303030315: epsilon=0.9994193207414146, eta=1.4704180314164137e-09\n",
      "i=31, zi=0.31313131313131326: epsilon=0.9994028424243661, eta=1.5097508286528837e-09\n",
      "i=32, zi=0.32323232323232337: epsilon=0.9993867677163597, eta=1.5476958329848893e-09\n",
      "i=33, zi=0.3333333333333335: epsilon=0.9993711317877296, eta=1.584137664466908e-09\n",
      "i=34, zi=0.3434343434343436: epsilon=0.9993559713229146, eta=1.6189575087210318e-09\n",
      "i=35, zi=0.3535353535353537: epsilon=0.9993413244455475, eta=1.6520336637651538e-09\n",
      "i=36, zi=0.3636363636363638: epsilon=0.9993272306273469, eta=1.6832421651987693e-09\n",
      "i=37, zi=0.3737373737373739: epsilon=0.9993137305798826, eta=1.7124574913524394e-09\n",
      "i=38, zi=0.38383838383838403: epsilon=0.9993008661283229, eta=1.7395533490886392e-09\n",
      "i=39, zi=0.39393939393939414: epsilon=0.999288680066346, eta=1.7644035398783334e-09\n",
      "i=40, zi=0.40404040404040426: epsilon=0.9992772159914776, eta=1.7868829045665492e-09\n",
      "i=41, zi=0.41414141414141437: epsilon=0.9992665181202182, eta=1.8068683438830584e-09\n",
      "i=42, zi=0.4242424242424245: epsilon=0.9992566310824417, eta=1.8242399102555985e-09\n",
      "i=43, zi=0.4343434343434346: epsilon=0.9992475996946922, eta=1.8388819648523031e-09\n",
      "i=44, zi=0.4444444444444447: epsilon=0.9992394687121694, eta=1.8506843920319977e-09\n",
      "i=45, zi=0.4545454545454548: epsilon=0.9992322825593741, eta=1.8595438615354075e-09\n",
      "i=46, zi=0.4646464646464649: epsilon=0.99922608503961, eta=1.8653651268337612e-09\n",
      "i=47, zi=0.47474747474747503: epsilon=0.9992209190237537, eta=1.8680623460964604e-09\n",
      "i=48, zi=0.48484848484848514: epsilon=0.9992168261189842, eta=1.8675604102860875e-09\n",
      "i=49, zi=0.49494949494949525: epsilon=0.9992138463184358, eta=1.8637962609841526e-09\n",
      "i=50, zi=0.5050505050505053: epsilon=0.9992120176330487, eta=1.8567201787481982e-09\n",
      "i=51, zi=0.5151515151515154: epsilon=0.9992113757072246, eta=1.8462970211612496e-09\n",
      "i=52, zi=0.5252525252525254: epsilon=0.9992119534202502, eta=1.8325073883243435e-09\n",
      "i=53, zi=0.5353535353535355: epsilon=0.9992137804758147, eta=1.8153486924348457e-09\n",
      "i=54, zi=0.5454545454545455: epsilon=0.99921688298235, eta=1.7948361073628459e-09\n",
      "i=55, zi=0.5555555555555556: epsilon=0.999221283027316, eta=1.7710033738634117e-09\n",
      "i=56, zi=0.5656565656565656: epsilon=0.9992269982489691, eta=1.7439034363221682e-09\n",
      "i=57, zi=0.5757575757575757: epsilon=0.9992340414095741, eta=1.713608887800147e-09\n",
      "i=58, zi=0.5858585858585857: epsilon=0.9992424197452889, eta=1.6802127099092006e-09\n",
      "i=59, zi=0.5959595959595958: epsilon=0.9992521334909675, eta=1.6438305806409076e-09\n",
      "i=60, zi=0.6060606060606059: epsilon=0.999263178395314, eta=1.6045941134646876e-09\n",
      "i=61, zi=0.6161616161616159: epsilon=0.9992755451331847, eta=1.562651078990723e-09\n",
      "i=62, zi=0.626262626262626: epsilon=0.999289216092449, eta=1.5181708384163633e-09\n",
      "i=63, zi=0.636363636363636: epsilon=0.9993041665299731, eta=1.4713400342898008e-09\n",
      "i=64, zi=0.6464646464646461: epsilon=0.9993203642990087, eta=1.422361270332403e-09\n",
      "i=65, zi=0.6565656565656561: epsilon=0.9993377696231436, eta=1.3714515339082574e-09\n",
      "i=66, zi=0.6666666666666662: epsilon=0.9993563349236001, eta=1.318840378908474e-09\n",
      "i=67, zi=0.6767676767676762: epsilon=0.9993760047066763, eta=1.2647678942940115e-09\n",
      "i=68, zi=0.6868686868686863: epsilon=0.9993967155180719, eta=1.2094824910309888e-09\n",
      "i=69, zi=0.6969696969696964: epsilon=0.9994183959706503, eta=1.153238547362939e-09\n",
      "i=70, zi=0.7070707070707064: epsilon=0.9994409658576824, eta=1.0962959086451725e-09\n",
      "i=71, zi=0.7171717171717165: epsilon=0.999464338324616, eta=1.0389134080883955e-09\n",
      "i=72, zi=0.7272727272727265: epsilon=0.9994884202199422, eta=9.813464543217067e-10\n",
      "i=73, zi=0.7373737373737366: epsilon=0.999513110405591, eta=9.238486129448379e-10\n",
      "i=74, zi=0.7474747474747466: epsilon=0.9995383012472532, eta=8.666673213463403e-10\n",
      "i=75, zi=0.7575757575757567: epsilon=0.9995638791966481, eta=8.100417931544483e-10\n",
      "i=76, zi=0.7676767676767667: epsilon=0.9995897254727685, eta=7.542011688296681e-10\n",
      "i=77, zi=0.7777777777777768: epsilon=0.9996157190380379, eta=6.993589586413957e-10\n",
      "i=78, zi=0.7878787878787868: epsilon=0.9996417348446331, eta=6.457168114537346e-10\n",
      "i=79, zi=0.7979797979797969: epsilon=0.9996676409844415, eta=5.934702748506875e-10\n",
      "i=80, zi=0.808080808080807: epsilon=0.9996933044632196, eta=5.427994949765196e-10\n",
      "i=81, zi=0.818181818181817: epsilon=0.9997185939830888, eta=4.938662357743993e-10\n",
      "i=82, zi=0.8282828282828271: epsilon=0.9997433791542628, eta=4.4681758530421233e-10\n",
      "i=83, zi=0.8383838383838371: epsilon=0.999767533467314, eta=4.0178332081524686e-10\n",
      "i=84, zi=0.8484848484848472: epsilon=0.9997909326215972, eta=3.588816513658293e-10\n",
      "i=85, zi=0.8585858585858572: epsilon=0.9998134550404503, eta=3.182210368570877e-10\n",
      "i=86, zi=0.8686868686868673: epsilon=0.9998349869623642, eta=2.7989435078527925e-10\n",
      "i=87, zi=0.8787878787878773: epsilon=0.9998554231176109, eta=2.4398060886075454e-10\n",
      "i=88, zi=0.8888888888888874: epsilon=0.9998746623808963, eta=2.105548534267431e-10\n",
      "i=89, zi=0.8989898989898975: epsilon=0.9998926207139789, eta=1.7966848829499547e-10\n",
      "i=90, zi=0.9090909090909075: epsilon=0.999909231622985, eta=1.513507383750454e-10\n",
      "i=91, zi=0.9191919191919176: epsilon=0.9999244359398812, eta=1.256270113813857e-10\n",
      "i=92, zi=0.9292929292929276: epsilon=0.9999381896962157, eta=1.0250654624765795e-10\n",
      "i=93, zi=0.9393939393939377: epsilon=0.9999504646904074, eta=8.198190378892266e-11\n",
      "i=94, zi=0.9494949494949477: epsilon=0.9999612498047807, eta=6.402676533702784e-11\n",
      "i=95, zi=0.9595959595959578: epsilon=0.9999705535604742, eta=4.859133159169191e-11\n",
      "i=96, zi=0.9696969696969678: epsilon=0.9999784048833814, eta=3.5600376234747805e-11\n",
      "i=97, zi=0.9797979797979779: epsilon=0.9999848525338851, eta=2.495325387888313e-11\n",
      "i=98, zi=0.989898989898988: epsilon=0.9999899677827792, eta=1.6518391316466326e-11\n",
      "epsilonN=0.9999899677827792, etaN=1.6518391316466326e-11\n",
      "kappa=95.35982968760156, KN=76680.43040186737, MN=-76677.08754472452\n",
      "yN = 3.080135814003586e-07\n"
     ]
    },
    {
     "name": "stderr",
     "output_type": "stream",
     "text": [
      "C:\\Users\\ck4te\\AppData\\Local\\Temp\\ipykernel_27416\\118313661.py:16: RuntimeWarning:\n",
      "\n",
      "divide by zero encountered in scalar divide\n",
      "\n",
      "C:\\Users\\ck4te\\AppData\\Local\\Temp\\ipykernel_27416\\118313661.py:16: RuntimeWarning:\n",
      "\n",
      "invalid value encountered in scalar multiply\n",
      "\n"
     ]
    },
    {
     "data": {
      "application/vnd.plotly.v1+json": {
       "config": {
        "plotlyServerURL": "https://plot.ly"
       },
       "data": [
        {
         "hovertemplate": "label=u(z)<br>x=%{x}<br>y=%{y}<extra></extra>",
         "legendgroup": "u(z)",
         "line": {
          "color": "#636efa",
          "dash": "solid"
         },
         "marker": {
          "symbol": "circle"
         },
         "mode": "lines+markers",
         "name": "u(z)",
         "orientation": "v",
         "showlegend": true,
         "type": "scatter",
         "x": {
          "bdata": "AAAAAAAAAABbv1Kg1q+EP1u/UqDWr5Q/CB988MEHnz9bv1Kg1q+kPzJvZ0jM26k/CB988MEHrz9wZ0jM2xmyP1u/UqDWr7Q/RhdddNFFtz8yb2dIzNu5Px3HcRzHcbw/CB988MEHvz96O0Ni3s7AP3BnSMzbGcI/ZZNNNtlkwz9bv1Kg1q/EP1HrVwrU+sU/RhdddNFFxz88Q2LezpDIPzJvZ0jM28k/J5tssskmyz8dx3Ecx3HMPxPzdobEvM0/CB988MEHzz9/pUCtXynQP3o7Q2LeztA/ddFFF1100T9wZ0jM2xnSP2r9SoFav9I/ZZNNNtlk0z9gKVDrVwrUP1u/UqDWr9Q/VlVVVVVV1T9R61cK1PrVP0yBWr9SoNY/RhdddNFF1z9BrV8pUOvXPzxDYt7OkNg/N9lkk0022T8yb2dIzNvZPy0Fav1Kgdo/J5tssskm2z8iMW9nSMzbPx3HcRzHcdw/GF100UUX3T8T83aGxLzdPw6JeTtDYt4/CB988MEH3z8DtX6lQK3fP3+lQK1fKeA/ffDBBx984D96O0Ni3s7gP3eGxLydIeE/ddFFF1104T9yHMdxHMfhP3BnSMzbGeI/bbLJJpts4j9q/UqBWr/iP2hIzNsZEuM/ZZNNNtlk4z9j3s6QmLfjP2ApUOtXCuQ/XnTRRRdd5D9bv1Kg1q/kP1gK1PqVAuU/VlVVVVVV5T9ToNavFKjlP1HrVwrU+uU/TjbZZJNN5j9MgVq/UqDmP0nM2xkS8+Y/RhdddNFF5z9EYt7OkJjnP0GtXylQ6+c/P/jggw8+6D88Q2LezpDoPzmO4ziO4+g/N9lkk0026T80JObtDInpPzJvZ0jM2+k/L7rooosu6j8tBWr9SoHqPypQ61cK1Oo/J5tssskm6z8l5u0MiXnrPyIxb2dIzOs/IHzwwQcf7D8dx3Ecx3HsPxsS83aGxOw/GF100UUX7T8VqPUrBWrtPxPzdobEvO0/ED744IMP7j8OiXk7Q2LuPwvU+pUCte4/CB988MEH7z8Gav1KgVrvPwO1fqVAre8/AAAAAAAA8D8=",
          "dtype": "f8"
         },
         "xaxis": "x",
         "y": {
          "bdata": "ArJfDN1tmj4Csl8M3W2aPi6zoaXibJo+X+bf6h9rmj6XGvIAnGiaPkSCjUdZZZo+VCpG0lhhmj7lsMM2m1yaPhlyoNIgV5o+EaVi6elQmj7KBfCz9kmaPrxf8WlHQpo+nPN0SNw5mj7Q8EOXtTCaPhSjna3TJpo+1/mz9jYcmj67vxr23xCaPpjOREzPBJo+11AeuwX4mT7c5csqhOqZPvXrka5L3Jk+FhTkiV3NmT6kFZs1u72ZPl6ATGVmrZk+OxO/DGGcmT7Pi3RlrYqZPqR/QPRNeJk+qHfijkVlmT7oLphhl1GZPm2Am/RGPZk+nDx+MVgomT4ez1RozxKZPg9Xn1Sx/Jg+YpnfIQPmmD6LDslvys6YPtxA91UNt5g+x8cVZ9KemD5mb2SzIIaYPhyUgcr/bJg+Q3NkvHdTmD6jNXEZkTmYPp/SkPFUH5g+VKY30swEmD6wvEbDAuqXPmlxtUIBz5c+eiLzPtOzlz5RWPMPhJiXPlz52W4ffZc+9uJAbLFhlz4YlxRlRkaXPuWSCvbqKpc+s0657asPlz4m0V89lvSWPskTcei22ZY+MiL+8hq/lj4UwSBPz6SWPq9mj8ngipY+2jmK9Vtxlj46elcYTViWPpVBDxTAP5Y+SVRAUMAnlj5wDSmpWBCWPsJf1F6T+ZU+XiYz/3njlT7k14xUFc6VPmsFdVVtuZU+gTeOFomllT5GUl2+bpKVPrAIaXsjgJU+pgvXfKtulT4GoqztCV6VPn4i8/BATpU+6CZnpFE/lT6YTsolPDGVPo4PFJf/I5U+Prn8JpoXlT63XsEbCQyVPkCw0t9IAZU+9IvOE1X3lD5t1++cKO6UPtpaFq695ZQ+F4BU2Q3elD77+/QjEteUPsjRrxbD0JQ+I+rfzxjLlD6ov+cPC8aUPhmXaUORwZQ+aIBYkqK9lD67j+XsNbqUPmVz1g5Ct5Q+TJ+FlL20lD7qYBkOn7KUPhM8mwHdsJQ+bdM4+G2vlD5iTeGLSK6UPpB94nZjrZQ+kzLKp7WslD6hSCxXNqyUPk8XkB3dq5Q+etyaDqKrlD4=",
          "dtype": "f8"
         },
         "yaxis": "y"
        },
        {
         "hovertemplate": "label=u_p(z)<br>x=%{x}<br>y=%{y}<extra></extra>",
         "legendgroup": "u_p(z)",
         "line": {
          "color": "#EF553B",
          "dash": "solid"
         },
         "marker": {
          "symbol": "circle"
         },
         "mode": "lines+markers",
         "name": "u_p(z)",
         "orientation": "v",
         "showlegend": true,
         "type": "scatter",
         "x": {
          "bdata": "AAAAAAAAAABbv1Kg1q+EP1u/UqDWr5Q/CB988MEHnz9bv1Kg1q+kPzJvZ0jM26k/CB988MEHrz9wZ0jM2xmyP1u/UqDWr7Q/RhdddNFFtz8yb2dIzNu5Px3HcRzHcbw/CB988MEHvz96O0Ni3s7AP3BnSMzbGcI/ZZNNNtlkwz9bv1Kg1q/EP1HrVwrU+sU/RhdddNFFxz88Q2LezpDIPzJvZ0jM28k/J5tssskmyz8dx3Ecx3HMPxPzdobEvM0/CB988MEHzz9/pUCtXynQP3o7Q2LeztA/ddFFF1100T9wZ0jM2xnSP2r9SoFav9I/ZZNNNtlk0z9gKVDrVwrUP1u/UqDWr9Q/VlVVVVVV1T9R61cK1PrVP0yBWr9SoNY/RhdddNFF1z9BrV8pUOvXPzxDYt7OkNg/N9lkk0022T8yb2dIzNvZPy0Fav1Kgdo/J5tssskm2z8iMW9nSMzbPx3HcRzHcdw/GF100UUX3T8T83aGxLzdPw6JeTtDYt4/CB988MEH3z8DtX6lQK3fP3+lQK1fKeA/ffDBBx984D96O0Ni3s7gP3eGxLydIeE/ddFFF1104T9yHMdxHMfhP3BnSMzbGeI/bbLJJpts4j9q/UqBWr/iP2hIzNsZEuM/ZZNNNtlk4z9j3s6QmLfjP2ApUOtXCuQ/XnTRRRdd5D9bv1Kg1q/kP1gK1PqVAuU/VlVVVVVV5T9ToNavFKjlP1HrVwrU+uU/TjbZZJNN5j9MgVq/UqDmP0nM2xkS8+Y/RhdddNFF5z9EYt7OkJjnP0GtXylQ6+c/P/jggw8+6D88Q2LezpDoPzmO4ziO4+g/N9lkk0026T80JObtDInpPzJvZ0jM2+k/L7rooosu6j8tBWr9SoHqPypQ61cK1Oo/J5tssskm6z8l5u0MiXnrPyIxb2dIzOs/IHzwwQcf7D8dx3Ecx3HsPxsS83aGxOw/GF100UUX7T8VqPUrBWrtPxPzdobEvO0/ED744IMP7j8OiXk7Q2LuPwvU+pUCte4/CB988MEH7z8Gav1KgVrvPwO1fqVAre8/AAAAAAAA8D8=",
          "dtype": "f8"
         },
         "xaxis": "x",
         "y": {
          "bdata": "Wog1jjN9xT51KK5/M33FPruMv6UyfcU+nHpg9S59xT6ui9gGJX3FPsXLxRUQfcU+I+EqAep8xT4LCYxLq3zFPiAAIxtLfMU+srgzOr97xT6cjo0X/HrFPkJyRsf0ecU+S1G/A5t4xT5AzQIv33bFPq8akVSwdMU+BK2tK/xxxT5EGkUar27FPgZpgzi0asU+3r00VfVlxT7gHwz7WmDFPknJ7XbMWcU+CjNc3y9SxT6xvygdaknFPvOWivVeP8U+8uu/FfEzxT52hF8gAifFPnXqgbxyGMU+ZTbrpiIIxT4q1F/F8PXEPnkGUDy74cQ+/zMHh1/LxD4LNo2SurLEPgvpaNuol8Q+XR50jgZ6xD4Ku/Gsr1nEPqw+FzSANsQ+dxQ7SFQQxD5g3thjCOfDPqtQnIp5usM+bRqigIWKwz7vqBwGC1fDPiMviBfqH8M+byCWMgTlwj48EvSfPKbCPgGNDMJ4Y8I+jIDZaKAcwj7OjdcqntHBPnHdHsNfgsE+yWiZdNYuwT4VCT9y99bAPkLULEy8esA+CrdWYSMawD6sbe6qYGq/PvYsghXZl74+udBgPc+8vT6T61bSb9m8PqV83fn17bs+d/gBUKz6uj5ilkbl7f+5PhLAuTUn/rg+qHi/FNf1tz5y5SWIj+e2PgDqG4z207U+RHh7uMa7tD7V0o6+z5+zPqO3B7X2gLI+NyVKJjZgsT7guXXTnT6wPhT2jzmkOq4+hyoo/BX7qz4Q8WwYJcGpPl1cdr2Fj6c+rvgjnwZppT6fysXziVCjPoDxbsL8SKE+GYO6rpiqnj5L4Kd1s/CaPmMHYCbWaZc+pkF43TUblD4qCi4eiwmRPsPpWeXRcYw+LK3GFyNZhz6UKAPQk82CPhG5Oeu6on0+5MZgmzbIdj7JTm34GgVxPrLCYQzZmWg+uIsiDHIaYT49L1Od9rdWPgwixfkPlEw+sVJwMpTVQD79W0BZSk8yPqggL8KaCiI+/VMZX3VnDz6LXjLAwVD3Pa7KWe48Hdw9VNiMIqyeuT2OA4QS6qGPPeWuPR7vNlY9MjSIHhhZCj0=",
          "dtype": "f8"
         },
         "yaxis": "y"
        },
        {
         "hovertemplate": "label=F(z)<br>x=%{x}<br>y=%{y}<extra></extra>",
         "legendgroup": "F(z)",
         "line": {
          "color": "#00cc96",
          "dash": "solid"
         },
         "marker": {
          "symbol": "circle"
         },
         "mode": "lines+markers",
         "name": "F(z)",
         "orientation": "v",
         "showlegend": true,
         "type": "scatter",
         "x": {
          "bdata": "AAAAAAAAAABbv1Kg1q+EP1u/UqDWr5Q/CB988MEHnz9bv1Kg1q+kPzJvZ0jM26k/CB988MEHrz9wZ0jM2xmyP1u/UqDWr7Q/RhdddNFFtz8yb2dIzNu5Px3HcRzHcbw/CB988MEHvz96O0Ni3s7AP3BnSMzbGcI/ZZNNNtlkwz9bv1Kg1q/EP1HrVwrU+sU/RhdddNFFxz88Q2LezpDIPzJvZ0jM28k/J5tssskmyz8dx3Ecx3HMPxPzdobEvM0/CB988MEHzz9/pUCtXynQP3o7Q2LeztA/ddFFF1100T9wZ0jM2xnSP2r9SoFav9I/ZZNNNtlk0z9gKVDrVwrUP1u/UqDWr9Q/VlVVVVVV1T9R61cK1PrVP0yBWr9SoNY/RhdddNFF1z9BrV8pUOvXPzxDYt7OkNg/N9lkk0022T8yb2dIzNvZPy0Fav1Kgdo/J5tssskm2z8iMW9nSMzbPx3HcRzHcdw/GF100UUX3T8T83aGxLzdPw6JeTtDYt4/CB988MEH3z8DtX6lQK3fP3+lQK1fKeA/ffDBBx984D96O0Ni3s7gP3eGxLydIeE/ddFFF1104T9yHMdxHMfhP3BnSMzbGeI/bbLJJpts4j9q/UqBWr/iP2hIzNsZEuM/ZZNNNtlk4z9j3s6QmLfjP2ApUOtXCuQ/XnTRRRdd5D9bv1Kg1q/kP1gK1PqVAuU/VlVVVVVV5T9ToNavFKjlP1HrVwrU+uU/TjbZZJNN5j9MgVq/UqDmP0nM2xkS8+Y/RhdddNFF5z9EYt7OkJjnP0GtXylQ6+c/P/jggw8+6D88Q2LezpDoPzmO4ziO4+g/N9lkk0026T80JObtDInpPzJvZ0jM2+k/L7rooosu6j8tBWr9SoHqPypQ61cK1Oo/J5tssskm6z8l5u0MiXnrPyIxb2dIzOs/IHzwwQcf7D8dx3Ecx3HsPxsS83aGxOw/GF100UUX7T8VqPUrBWrtPxPzdobEvO0/ED744IMP7j8OiXk7Q2LuPwvU+pUCte4/CB988MEH7z8Gav1KgVrvPwO1fqVAre8/AAAAAAAA8D8=",
          "dtype": "f8"
         },
         "xaxis": "x",
         "y": {
          "bdata": "AAAAAAAA+P+2lTSIJ05JPumzvXI1Tlk+SCYm98L6Yj7+HZOGiE5pPuD2jbxxom8+1lztKj/7cj4BWgLLUyV2Po9AwNtwT3k+wEOxWop5fD6HdOIZkqN/PmfOAZK4ZoE+zpWRRof7gj49+BgLI5CEPiVesdd4JIY+wrA4v264hz5aTY/86UuJPkXjTLTH3oo+PaEXRORwjD5RCLLPEgKOPh7jZcglko8+Ok4SqnKQkD4guoeADFeRPrxzh4y+HJI+IYIGuWbhkj5IUMXi3KSTPjGxpcT4ZpQ+GdFztIsnlT7XCUEGZ+aVPqRkBG1Vo5Y+D9gOxCFelz7Io8MqkBaYPlu26B5lzJg+QYOTb15/mT5F6zuOOi+aPjwHKXqx25o+TuTfKHyEmz6ow6yQTSmcPu/dbwPayZw+SYAShNBlnT7Hsgjp4fydPo5MRK26jp4+Xj9Kqgkbnz5oOCOZeqGfPj2yfBfeEKA+V02Twr1NoD5JkLGvNIegPm/JbVkbvaA+lDNHbUzvoD4Moti5ox2hPnUVRKL/R6E+grXaz0BuoT7Mqx/iSpChPh7givgErqE+pOhmhVnHoT5KRRa+N9yhPu7dAXyS7KE+u4tEmWL4oT7lbSPSpP+hPudQeQpdAqI+SgwHMpMAoj5+OMdbV/qhPrKw3Ii976E+S7wNjeLgoT7vDZIM582hPkFHVs30tqE+6oZF/TicoT67fhPG6X2hPmA8ZRNAXKE+/wLFGX03oT4dwUvp4w+hPqcFfo++5aA+laZv0le5oD5e1WuF/4qgPjcJv94EW6A+ofGusbkpoD7PRV962+6fPsk4NAHhiJ8+D0Yk4xsinz7ROsR/HbuePkgYeo1tVJ4+n9r3dofunT7pNh0R24mdPov4/UfHJp0+wAfLnp7FnD7jrsIEoGacPs7RDnX+CZw+ucPIItmvmz5dkB4yRVibPmSK6GdGA5s+HWooWdmwmj5PV1nz7WCaPtoAIjNwE5o+rLiXhUTImT5osgwvTn+ZPt+fqUltOJk+sAOma4LzmD7zDyXHbbCYPlZwc7kQb5g+BOzDnE0vmD4=",
          "dtype": "f8"
         },
         "yaxis": "y"
        }
       ],
       "layout": {
        "legend": {
         "title": {
          "text": "label"
         },
         "tracegroupgap": 0
        },
        "margin": {
         "t": 60
        },
        "template": {
         "data": {
          "bar": [
           {
            "error_x": {
             "color": "#2a3f5f"
            },
            "error_y": {
             "color": "#2a3f5f"
            },
            "marker": {
             "line": {
              "color": "#E5ECF6",
              "width": 0.5
             },
             "pattern": {
              "fillmode": "overlay",
              "size": 10,
              "solidity": 0.2
             }
            },
            "type": "bar"
           }
          ],
          "barpolar": [
           {
            "marker": {
             "line": {
              "color": "#E5ECF6",
              "width": 0.5
             },
             "pattern": {
              "fillmode": "overlay",
              "size": 10,
              "solidity": 0.2
             }
            },
            "type": "barpolar"
           }
          ],
          "carpet": [
           {
            "aaxis": {
             "endlinecolor": "#2a3f5f",
             "gridcolor": "white",
             "linecolor": "white",
             "minorgridcolor": "white",
             "startlinecolor": "#2a3f5f"
            },
            "baxis": {
             "endlinecolor": "#2a3f5f",
             "gridcolor": "white",
             "linecolor": "white",
             "minorgridcolor": "white",
             "startlinecolor": "#2a3f5f"
            },
            "type": "carpet"
           }
          ],
          "choropleth": [
           {
            "colorbar": {
             "outlinewidth": 0,
             "ticks": ""
            },
            "type": "choropleth"
           }
          ],
          "contour": [
           {
            "colorbar": {
             "outlinewidth": 0,
             "ticks": ""
            },
            "colorscale": [
             [
              0,
              "#0d0887"
             ],
             [
              0.1111111111111111,
              "#46039f"
             ],
             [
              0.2222222222222222,
              "#7201a8"
             ],
             [
              0.3333333333333333,
              "#9c179e"
             ],
             [
              0.4444444444444444,
              "#bd3786"
             ],
             [
              0.5555555555555556,
              "#d8576b"
             ],
             [
              0.6666666666666666,
              "#ed7953"
             ],
             [
              0.7777777777777778,
              "#fb9f3a"
             ],
             [
              0.8888888888888888,
              "#fdca26"
             ],
             [
              1,
              "#f0f921"
             ]
            ],
            "type": "contour"
           }
          ],
          "contourcarpet": [
           {
            "colorbar": {
             "outlinewidth": 0,
             "ticks": ""
            },
            "type": "contourcarpet"
           }
          ],
          "heatmap": [
           {
            "colorbar": {
             "outlinewidth": 0,
             "ticks": ""
            },
            "colorscale": [
             [
              0,
              "#0d0887"
             ],
             [
              0.1111111111111111,
              "#46039f"
             ],
             [
              0.2222222222222222,
              "#7201a8"
             ],
             [
              0.3333333333333333,
              "#9c179e"
             ],
             [
              0.4444444444444444,
              "#bd3786"
             ],
             [
              0.5555555555555556,
              "#d8576b"
             ],
             [
              0.6666666666666666,
              "#ed7953"
             ],
             [
              0.7777777777777778,
              "#fb9f3a"
             ],
             [
              0.8888888888888888,
              "#fdca26"
             ],
             [
              1,
              "#f0f921"
             ]
            ],
            "type": "heatmap"
           }
          ],
          "histogram": [
           {
            "marker": {
             "pattern": {
              "fillmode": "overlay",
              "size": 10,
              "solidity": 0.2
             }
            },
            "type": "histogram"
           }
          ],
          "histogram2d": [
           {
            "colorbar": {
             "outlinewidth": 0,
             "ticks": ""
            },
            "colorscale": [
             [
              0,
              "#0d0887"
             ],
             [
              0.1111111111111111,
              "#46039f"
             ],
             [
              0.2222222222222222,
              "#7201a8"
             ],
             [
              0.3333333333333333,
              "#9c179e"
             ],
             [
              0.4444444444444444,
              "#bd3786"
             ],
             [
              0.5555555555555556,
              "#d8576b"
             ],
             [
              0.6666666666666666,
              "#ed7953"
             ],
             [
              0.7777777777777778,
              "#fb9f3a"
             ],
             [
              0.8888888888888888,
              "#fdca26"
             ],
             [
              1,
              "#f0f921"
             ]
            ],
            "type": "histogram2d"
           }
          ],
          "histogram2dcontour": [
           {
            "colorbar": {
             "outlinewidth": 0,
             "ticks": ""
            },
            "colorscale": [
             [
              0,
              "#0d0887"
             ],
             [
              0.1111111111111111,
              "#46039f"
             ],
             [
              0.2222222222222222,
              "#7201a8"
             ],
             [
              0.3333333333333333,
              "#9c179e"
             ],
             [
              0.4444444444444444,
              "#bd3786"
             ],
             [
              0.5555555555555556,
              "#d8576b"
             ],
             [
              0.6666666666666666,
              "#ed7953"
             ],
             [
              0.7777777777777778,
              "#fb9f3a"
             ],
             [
              0.8888888888888888,
              "#fdca26"
             ],
             [
              1,
              "#f0f921"
             ]
            ],
            "type": "histogram2dcontour"
           }
          ],
          "mesh3d": [
           {
            "colorbar": {
             "outlinewidth": 0,
             "ticks": ""
            },
            "type": "mesh3d"
           }
          ],
          "parcoords": [
           {
            "line": {
             "colorbar": {
              "outlinewidth": 0,
              "ticks": ""
             }
            },
            "type": "parcoords"
           }
          ],
          "pie": [
           {
            "automargin": true,
            "type": "pie"
           }
          ],
          "scatter": [
           {
            "fillpattern": {
             "fillmode": "overlay",
             "size": 10,
             "solidity": 0.2
            },
            "type": "scatter"
           }
          ],
          "scatter3d": [
           {
            "line": {
             "colorbar": {
              "outlinewidth": 0,
              "ticks": ""
             }
            },
            "marker": {
             "colorbar": {
              "outlinewidth": 0,
              "ticks": ""
             }
            },
            "type": "scatter3d"
           }
          ],
          "scattercarpet": [
           {
            "marker": {
             "colorbar": {
              "outlinewidth": 0,
              "ticks": ""
             }
            },
            "type": "scattercarpet"
           }
          ],
          "scattergeo": [
           {
            "marker": {
             "colorbar": {
              "outlinewidth": 0,
              "ticks": ""
             }
            },
            "type": "scattergeo"
           }
          ],
          "scattergl": [
           {
            "marker": {
             "colorbar": {
              "outlinewidth": 0,
              "ticks": ""
             }
            },
            "type": "scattergl"
           }
          ],
          "scattermap": [
           {
            "marker": {
             "colorbar": {
              "outlinewidth": 0,
              "ticks": ""
             }
            },
            "type": "scattermap"
           }
          ],
          "scattermapbox": [
           {
            "marker": {
             "colorbar": {
              "outlinewidth": 0,
              "ticks": ""
             }
            },
            "type": "scattermapbox"
           }
          ],
          "scatterpolar": [
           {
            "marker": {
             "colorbar": {
              "outlinewidth": 0,
              "ticks": ""
             }
            },
            "type": "scatterpolar"
           }
          ],
          "scatterpolargl": [
           {
            "marker": {
             "colorbar": {
              "outlinewidth": 0,
              "ticks": ""
             }
            },
            "type": "scatterpolargl"
           }
          ],
          "scatterternary": [
           {
            "marker": {
             "colorbar": {
              "outlinewidth": 0,
              "ticks": ""
             }
            },
            "type": "scatterternary"
           }
          ],
          "surface": [
           {
            "colorbar": {
             "outlinewidth": 0,
             "ticks": ""
            },
            "colorscale": [
             [
              0,
              "#0d0887"
             ],
             [
              0.1111111111111111,
              "#46039f"
             ],
             [
              0.2222222222222222,
              "#7201a8"
             ],
             [
              0.3333333333333333,
              "#9c179e"
             ],
             [
              0.4444444444444444,
              "#bd3786"
             ],
             [
              0.5555555555555556,
              "#d8576b"
             ],
             [
              0.6666666666666666,
              "#ed7953"
             ],
             [
              0.7777777777777778,
              "#fb9f3a"
             ],
             [
              0.8888888888888888,
              "#fdca26"
             ],
             [
              1,
              "#f0f921"
             ]
            ],
            "type": "surface"
           }
          ],
          "table": [
           {
            "cells": {
             "fill": {
              "color": "#EBF0F8"
             },
             "line": {
              "color": "white"
             }
            },
            "header": {
             "fill": {
              "color": "#C8D4E3"
             },
             "line": {
              "color": "white"
             }
            },
            "type": "table"
           }
          ]
         },
         "layout": {
          "annotationdefaults": {
           "arrowcolor": "#2a3f5f",
           "arrowhead": 0,
           "arrowwidth": 1
          },
          "autotypenumbers": "strict",
          "coloraxis": {
           "colorbar": {
            "outlinewidth": 0,
            "ticks": ""
           }
          },
          "colorscale": {
           "diverging": [
            [
             0,
             "#8e0152"
            ],
            [
             0.1,
             "#c51b7d"
            ],
            [
             0.2,
             "#de77ae"
            ],
            [
             0.3,
             "#f1b6da"
            ],
            [
             0.4,
             "#fde0ef"
            ],
            [
             0.5,
             "#f7f7f7"
            ],
            [
             0.6,
             "#e6f5d0"
            ],
            [
             0.7,
             "#b8e186"
            ],
            [
             0.8,
             "#7fbc41"
            ],
            [
             0.9,
             "#4d9221"
            ],
            [
             1,
             "#276419"
            ]
           ],
           "sequential": [
            [
             0,
             "#0d0887"
            ],
            [
             0.1111111111111111,
             "#46039f"
            ],
            [
             0.2222222222222222,
             "#7201a8"
            ],
            [
             0.3333333333333333,
             "#9c179e"
            ],
            [
             0.4444444444444444,
             "#bd3786"
            ],
            [
             0.5555555555555556,
             "#d8576b"
            ],
            [
             0.6666666666666666,
             "#ed7953"
            ],
            [
             0.7777777777777778,
             "#fb9f3a"
            ],
            [
             0.8888888888888888,
             "#fdca26"
            ],
            [
             1,
             "#f0f921"
            ]
           ],
           "sequentialminus": [
            [
             0,
             "#0d0887"
            ],
            [
             0.1111111111111111,
             "#46039f"
            ],
            [
             0.2222222222222222,
             "#7201a8"
            ],
            [
             0.3333333333333333,
             "#9c179e"
            ],
            [
             0.4444444444444444,
             "#bd3786"
            ],
            [
             0.5555555555555556,
             "#d8576b"
            ],
            [
             0.6666666666666666,
             "#ed7953"
            ],
            [
             0.7777777777777778,
             "#fb9f3a"
            ],
            [
             0.8888888888888888,
             "#fdca26"
            ],
            [
             1,
             "#f0f921"
            ]
           ]
          },
          "colorway": [
           "#636efa",
           "#EF553B",
           "#00cc96",
           "#ab63fa",
           "#FFA15A",
           "#19d3f3",
           "#FF6692",
           "#B6E880",
           "#FF97FF",
           "#FECB52"
          ],
          "font": {
           "color": "#2a3f5f"
          },
          "geo": {
           "bgcolor": "white",
           "lakecolor": "white",
           "landcolor": "#E5ECF6",
           "showlakes": true,
           "showland": true,
           "subunitcolor": "white"
          },
          "hoverlabel": {
           "align": "left"
          },
          "hovermode": "closest",
          "mapbox": {
           "style": "light"
          },
          "paper_bgcolor": "white",
          "plot_bgcolor": "#E5ECF6",
          "polar": {
           "angularaxis": {
            "gridcolor": "white",
            "linecolor": "white",
            "ticks": ""
           },
           "bgcolor": "#E5ECF6",
           "radialaxis": {
            "gridcolor": "white",
            "linecolor": "white",
            "ticks": ""
           }
          },
          "scene": {
           "xaxis": {
            "backgroundcolor": "#E5ECF6",
            "gridcolor": "white",
            "gridwidth": 2,
            "linecolor": "white",
            "showbackground": true,
            "ticks": "",
            "zerolinecolor": "white"
           },
           "yaxis": {
            "backgroundcolor": "#E5ECF6",
            "gridcolor": "white",
            "gridwidth": 2,
            "linecolor": "white",
            "showbackground": true,
            "ticks": "",
            "zerolinecolor": "white"
           },
           "zaxis": {
            "backgroundcolor": "#E5ECF6",
            "gridcolor": "white",
            "gridwidth": 2,
            "linecolor": "white",
            "showbackground": true,
            "ticks": "",
            "zerolinecolor": "white"
           }
          },
          "shapedefaults": {
           "line": {
            "color": "#2a3f5f"
           }
          },
          "ternary": {
           "aaxis": {
            "gridcolor": "white",
            "linecolor": "white",
            "ticks": ""
           },
           "baxis": {
            "gridcolor": "white",
            "linecolor": "white",
            "ticks": ""
           },
           "bgcolor": "#E5ECF6",
           "caxis": {
            "gridcolor": "white",
            "linecolor": "white",
            "ticks": ""
           }
          },
          "title": {
           "x": 0.05
          },
          "xaxis": {
           "automargin": true,
           "gridcolor": "white",
           "linecolor": "white",
           "ticks": "",
           "title": {
            "standoff": 15
           },
           "zerolinecolor": "white",
           "zerolinewidth": 2
          },
          "yaxis": {
           "automargin": true,
           "gridcolor": "white",
           "linecolor": "white",
           "ticks": "",
           "title": {
            "standoff": 15
           },
           "zerolinecolor": "white",
           "zerolinewidth": 2
          }
         }
        },
        "xaxis": {
         "anchor": "y",
         "domain": [
          0,
          1
         ],
         "title": {
          "text": "x"
         }
        },
        "yaxis": {
         "anchor": "x",
         "domain": [
          0,
          1
         ],
         "title": {
          "text": "y"
         }
        }
       }
      }
     },
     "metadata": {},
     "output_type": "display_data"
    }
   ],
   "source": [
    "import plotly.express as px\n",
    "import pandas as pd\n",
    "from scipy import integrate\n",
    "\n",
    "cntSteps = 100\n",
    "k_z = getk_zFunc(variantkT=1)\n",
    "zvals = np.linspace(0, 1, num=cntSteps)\n",
    "uvals = progonka(k_z, cntSteps)\n",
    "upvals = [up_z(z) for z in zvals]\n",
    "\n",
    "def getFvals(zvals):\n",
    "    F = []\n",
    "    intFunc = []\n",
    "    for i in range(len(zvals)):\n",
    "        intFunc.append(zvals[i] * k_z(zvals[i]) * (upvals[i] - uvals[i]))\n",
    "        F.append(3 * R / zvals[i] * integrate.simpson(intFunc, zvals[:i+1]))\n",
    "    return F\n",
    "\n",
    "def get_dFvals(zvals, uvals, upvals, Fvals):\n",
    "    dF = []\n",
    "    for i in range(len(zvals)):\n",
    "        dF.append(3 * R * k_z(zvals[i]) * (upvals[i] - uvals[i]) - Fvals[i] / zvals[i])\n",
    "    return dF\n",
    "\n",
    "Fvals = getFvals(zvals)\n",
    "# dFvals = get_dFvals(zvals, uvals, upvals, Fvals)\n",
    "\n",
    "df1 = pd.DataFrame({\"x\": zvals, \"y\": uvals, \"label\": [\"u(z)\"] * len(uvals) })\n",
    "df2 = pd.DataFrame({\"x\": zvals, \"y\": upvals, \"label\": [\"u_p(z)\"] * len(upvals) })\n",
    "df3 = pd.DataFrame({\"x\": zvals, \"y\": Fvals, \"label\": [\"F(z)\"] * len(Fvals) })\n",
    "# df4 = pd.DataFrame({\"x\": zvals, \"y\": dFvals, \"label\": [\"dF(z)\"] * len(Fvals) })\n",
    "df = pd.concat([df1, df2, df3]) # , df4\n",
    "fig1 = px.line(df, x=\"x\", y=\"y\", color=\"label\", title=\"\", markers = True)\n",
    "fig1.show()\n"
   ]
  },
  {
   "cell_type": "code",
   "execution_count": 14,
   "id": "d8ac1043",
   "metadata": {},
   "outputs": [],
   "source": [
    "\n",
    "\n",
    "# zvals = np.linspace(0, 1, num=cntSteps)\n",
    "\n",
    "\n",
    "\n",
    "\n",
    "def IntegrF(z, u : list[float]):\n",
    "    k = getkFunc()\n",
    "    F = [0] * len(u)\n",
    "    intFunc = []\n",
    "    for i in range(len(u)):\n",
    "        intFunc.append(z[i] * k(T(z[i])) * (Plank(z[i])) - u[i])\n",
    "        F[i] = 3*R/z[i] * sp.integrate.simpson(intFunc, z[:i+1])\n",
    "    return F\n"
   ]
  }
 ],
 "metadata": {
  "kernelspec": {
   "display_name": ".venv",
   "language": "python",
   "name": "python3"
  },
  "language_info": {
   "codemirror_mode": {
    "name": "ipython",
    "version": 3
   },
   "file_extension": ".py",
   "mimetype": "text/x-python",
   "name": "python",
   "nbconvert_exporter": "python",
   "pygments_lexer": "ipython3",
   "version": "3.12.7"
  }
 },
 "nbformat": 4,
 "nbformat_minor": 5
}
